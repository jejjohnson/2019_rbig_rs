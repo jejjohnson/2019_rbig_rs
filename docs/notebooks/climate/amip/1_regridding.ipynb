{
 "cells": [
  {
   "cell_type": "markdown",
   "metadata": {},
   "source": [
    "# Comparing Two Climate Models\n",
    "\n",
    "In this notebook, I will be comparing two climate reanalysis models:\n",
    "\n",
    "* NCEP-DOE Reanalysis 2: Surface\n",
    "* ERA5\n",
    "\n",
    "I will be looking at the following variables:\n",
    "\n",
    "* Surface Pressure\n",
    "* Mean Sea Level Pressure\n",
    "* Total Column Water\n",
    "\n",
    "The idea is simple: these two models should have very similar properties. I will be trying to user RBIG in order to assess how similar these models are. I'll be looking at the following IT measures\n",
    "\n",
    "* Entropy\n",
    "* Total Correlation\n",
    "* Mutual Information\n",
    "\n",
    "If these climate models are that similar, then they should exhibit similar IT measures."
   ]
  },
  {
   "cell_type": "markdown",
   "metadata": {},
   "source": [
    "## Data - Climate Models"
   ]
  },
  {
   "cell_type": "code",
   "execution_count": 3,
   "metadata": {},
   "outputs": [
    {
     "name": "stdout",
     "output_type": "stream",
     "text": [
      "The autoreload extension is already loaded. To reload it, use:\n",
      "  %reload_ext autoreload\n"
     ]
    }
   ],
   "source": [
    "import os, sys\n",
    "cwd = os.getcwd()\n",
    "source_path = f\"{cwd}/../../../\"\n",
    "sys.path.insert(0, f'{source_path}')\n",
    "\n",
    "import numpy as np\n",
    "\n",
    "\n",
    "# Data Loaders\n",
    "from src.data.climate.amip import DataDownloader\n",
    "from src.data.climate.amip import DataLoader\n",
    "\n",
    "# ESDC tools\n",
    "sys.path.insert(0, f'/home/emmanuel/code/py_esdc')\n",
    "from esdc.standardize import normalize_temporal\n",
    "from esdc.transform import regrid_data\n",
    "\n",
    "import pandas as pd\n",
    "import xarray as xr\n",
    "from tqdm import tqdm\n",
    "from sklearn import preprocessing\n",
    "\n",
    "import seaborn as sns\n",
    "import matplotlib.pyplot as plt\n",
    "plt.style.use('ggplot')\n",
    "%matplotlib inline\n",
    "\n",
    "%load_ext autoreload\n",
    "%autoreload 2"
   ]
  },
  {
   "cell_type": "code",
   "execution_count": 6,
   "metadata": {},
   "outputs": [],
   "source": [
    "amip_data_path = f\"/home/emmanuel/projects/2020_rbig_rs/data/climate/raw/amip/\"\n",
    "era5_path = f\"/home/emmanuel/projects/2020_rbig_rs/data/climate/raw/era5/\"\n",
    "ncep_path = f\"/home/emmanuel/projects/2020_rbig_rs/data/climate/raw/ncep/\"\n",
    "results_path = f\"/home/emmanuel/projects/2020_rbig_rs/data/climate/results/\"\n",
    "fig_path = f\"/home/emmanuel/projects/2020_rbig_rs/reports/figures/climate/\""
   ]
  },
  {
   "cell_type": "markdown",
   "metadata": {},
   "source": [
    "## Dataset - GISS"
   ]
  },
  {
   "cell_type": "code",
   "execution_count": 14,
   "metadata": {},
   "outputs": [
    {
     "data": {
      "text/plain": [
       "<xarray.Dataset>\n",
       "Dimensions:    (bnds: 2, lat: 96, lon: 96, time: 360)\n",
       "Coordinates:\n",
       "  * time       (time) object 1979-01-16 12:00:00 ... 2008-12-16 12:00:00\n",
       "  * lat        (lat) float64 -90.0 -88.11 -86.21 -84.32 ... 86.21 88.11 90.0\n",
       "  * lon        (lon) float64 0.0 3.75 7.5 11.25 15.0 ... 345.0 348.8 352.5 356.2\n",
       "Dimensions without coordinates: bnds\n",
       "Data variables:\n",
       "    time_bnds  (time, bnds) object dask.array<chunksize=(360, 2), meta=np.ndarray>\n",
       "    lat_bnds   (lat, bnds) float64 dask.array<chunksize=(96, 2), meta=np.ndarray>\n",
       "    lon_bnds   (lon, bnds) float64 dask.array<chunksize=(96, 2), meta=np.ndarray>\n",
       "    psl        (time, lat, lon) float32 dask.array<chunksize=(360, 96, 96), meta=np.ndarray>\n",
       "Attributes:\n",
       "    institution:            IPSL (Institut Pierre Simon Laplace, Paris, France)\n",
       "    institute_id:           IPSL\n",
       "    experiment_id:          amip\n",
       "    source:                 IPSL-CM5B-LR (2011) : atmos : LMDZ5 (LMDZ5_NPv3.1...\n",
       "    model_id:               IPSL-CM5B-LR\n",
       "    forcing:                Nat,Ant,GHG,SA,Oz,LU,SS,Ds,BC,MD,OC,AA\n",
       "    parent_experiment_id:   N/A\n",
       "    parent_experiment_rip:  N/A\n",
       "    branch_time:            0.0\n",
       "    contact:                ipsl-cmip5 _at_ ipsl.jussieu.fr Data manager : Se...\n",
       "    comment:                This atmospheric only simulation include natural ...\n",
       "    references:             Model documentation and further reference availab...\n",
       "    initialization_method:  1\n",
       "    physics_version:        1\n",
       "    tracking_id:            b06de09a-a87a-4f4d-bb64-63ad47eab808\n",
       "    product:                output\n",
       "    experiment:             AMIP\n",
       "    frequency:              mon\n",
       "    creation_date:          2012-06-11T18:49:23Z\n",
       "    history:                2012-06-11T18:49:23Z CMOR rewrote data to comply ...\n",
       "    Conventions:            CF-1.4\n",
       "    project_id:             CMIP5\n",
       "    table_id:               Table Amon (31 January 2011) 53b766a395ac41696af4...\n",
       "    title:                  IPSL-CM5B-LR model output prepared for CMIP5 AMIP\n",
       "    parent_experiment:      N/A\n",
       "    modeling_realm:         atmos\n",
       "    realization:            1\n",
       "    cmor_version:           2.7.1"
      ]
     },
     "execution_count": 14,
     "metadata": {},
     "output_type": "execute_result"
    }
   ],
   "source": [
    "loader = DataLoader()\n",
    "\n",
    "dataset = 'ipsl_cm5b_lr'\n",
    "\n",
    "cmip5_data = loader.load_amip_data(dataset)\n",
    "\n",
    "cmip5_data"
   ]
  },
  {
   "cell_type": "markdown",
   "metadata": {},
   "source": [
    "## Test I - AMIP vs. ERA5"
   ]
  },
  {
   "cell_type": "markdown",
   "metadata": {},
   "source": [
    "#### ERA5"
   ]
  },
  {
   "cell_type": "code",
   "execution_count": 31,
   "metadata": {},
   "outputs": [],
   "source": [
    "def get_era5():\n",
    "    \n",
    "    \n",
    "    era5_data = xr.open_mfdataset(f\"{era5_path}*.nc\", combine=\"by_coords\")\n",
    "    era5_data = era5_data.rename({'msl': 'mslp', 'latitude': 'lat', 'longitude': 'lon'})\n",
    "    era5_data.attrs['model_id'] = 'era5'\n",
    "    era5_data = era5_data.rename({'mslp': 'psl'})\n",
    "    return era5_data"
   ]
  },
  {
   "cell_type": "code",
   "execution_count": 10,
   "metadata": {},
   "outputs": [
    {
     "data": {
      "text/plain": [
       "<xarray.Dataset>\n",
       "Dimensions:  (lat: 721, lon: 1440, time: 487)\n",
       "Coordinates:\n",
       "  * lon      (lon) float32 0.0 0.25 0.5 0.75 1.0 ... 359.0 359.25 359.5 359.75\n",
       "  * lat      (lat) float32 90.0 89.75 89.5 89.25 ... -89.25 -89.5 -89.75 -90.0\n",
       "  * time     (time) datetime64[ns] 1979-01-01 1979-02-01 ... 2019-07-01\n",
       "Data variables:\n",
       "    psl      (time, lat, lon) float32 dask.array<chunksize=(487, 721, 1440), meta=np.ndarray>\n",
       "    sp       (time, lat, lon) float32 dask.array<chunksize=(487, 721, 1440), meta=np.ndarray>\n",
       "Attributes:\n",
       "    Conventions:  CF-1.6\n",
       "    history:      2019-10-07 09:20:10 GMT by grib_to_netcdf-2.10.0: /opt/ecmw...\n",
       "    model_id:     era5"
      ]
     },
     "execution_count": 10,
     "metadata": {},
     "output_type": "execute_result"
    }
   ],
   "source": [
    "era5_data = get_era5()"
   ]
  },
  {
   "cell_type": "markdown",
   "metadata": {},
   "source": [
    "### ReGrid"
   ]
  },
  {
   "cell_type": "code",
   "execution_count": 19,
   "metadata": {},
   "outputs": [
    {
     "name": "stdout",
     "output_type": "stream",
     "text": [
      "Create weight file: nearest_s2d_721x1440_96x96.nc\n",
      "Remove file nearest_s2d_721x1440_96x96.nc\n"
     ]
    }
   ],
   "source": [
    "cmip5_coords = len(cmip5_data.lat) + len(cmip5_data.lon)\n",
    "era5_coords = len(era5_data.lat) + len(era5_data.lon)\n",
    "\n",
    "if cmip5_coords >= era5_coords:\n",
    "    cmip5_data = regrid_data(era5_data, cmip5_data)\n",
    "else:\n",
    "    era5_data = regrid_data(cmip5_data, era5_data)"
   ]
  },
  {
   "cell_type": "code",
   "execution_count": 21,
   "metadata": {},
   "outputs": [
    {
     "data": {
      "text/plain": [
       "<xarray.Dataset>\n",
       "Dimensions:  (lat: 96, lon: 96, time: 487)\n",
       "Coordinates:\n",
       "  * time     (time) datetime64[ns] 1979-01-01 1979-02-01 ... 2019-07-01\n",
       "  * lon      (lon) float64 0.0 3.75 7.5 11.25 15.0 ... 345.0 348.8 352.5 356.2\n",
       "  * lat      (lat) float64 -90.0 -88.11 -86.21 -84.32 ... 84.32 86.21 88.11 90.0\n",
       "Data variables:\n",
       "    psl      (time, lat, lon) float64 dask.array<chunksize=(487, 96, 96), meta=np.ndarray>\n",
       "    sp       (time, lat, lon) float64 dask.array<chunksize=(487, 96, 96), meta=np.ndarray>"
      ]
     },
     "execution_count": 21,
     "metadata": {},
     "output_type": "execute_result"
    }
   ],
   "source": [
    "era5_data"
   ]
  },
  {
   "cell_type": "markdown",
   "metadata": {},
   "source": [
    "### Test II - NCEP Data"
   ]
  },
  {
   "cell_type": "code",
   "execution_count": 27,
   "metadata": {},
   "outputs": [
    {
     "data": {
      "text/plain": [
       "<xarray.Dataset>\n",
       "Dimensions:    (lat: 73, lon: 144, nbnds: 2, time: 489)\n",
       "Coordinates:\n",
       "  * lat        (lat) float32 90.0 87.5 85.0 82.5 ... -82.5 -85.0 -87.5 -90.0\n",
       "  * lon        (lon) float32 0.0 2.5 5.0 7.5 10.0 ... 350.0 352.5 355.0 357.5\n",
       "  * time       (time) datetime64[ns] 1979-01-01 1979-02-01 ... 2019-09-01\n",
       "Dimensions without coordinates: nbnds\n",
       "Data variables:\n",
       "    psl        (time, lat, lon) float32 dask.array<chunksize=(489, 73, 144), meta=np.ndarray>\n",
       "    time_bnds  (time, nbnds) datetime64[ns] dask.array<chunksize=(489, 2), meta=np.ndarray>\n",
       "    pr_wtr     (time, lat, lon) float32 dask.array<chunksize=(489, 73, 144), meta=np.ndarray>\n",
       "    pres       (time, lat, lon) float32 dask.array<chunksize=(489, 73, 144), meta=np.ndarray>\n",
       "Attributes:\n",
       "    Conventions:    CF-1.0\n",
       "    title:          Monthly NCEP/DOE Reanalysis 2\n",
       "    history:        created 2002/03 by Hoop (netCDF2.3)\n",
       "    comments:       Data is from \\nNCEP/DOE AMIP-II Reanalysis (Reanalysis-2)...\n",
       "    platform:       Model\n",
       "    source:         NCEP/DOE AMIP-II Reanalysis (Reanalysis-2) Model\n",
       "    institution:    National Centers for Environmental Prediction\n",
       "    dataset_title:  NCEP-DOE AMIP-II Reanalysis\n",
       "    References:     https://www.esrl.noaa.gov/psd/data/gridded/data.ncep.rean...\n",
       "    source_url:     http://www.cpc.ncep.noaa.gov/products/wesley/reanalysis2/\n",
       "    model_id:       ncar_ncep_doe_2"
      ]
     },
     "execution_count": 27,
     "metadata": {},
     "output_type": "execute_result"
    }
   ],
   "source": [
    "ncep_data = xr.open_mfdataset(f\"{ncep_path}*mon.mean.nc\", combine=\"by_coords\")\n",
    "ncep_data = ncep_data.rename({'mslp': 'psl'})\n",
    "ncep_data.attrs['model_id'] = 'ncar_ncep_doe_2'\n",
    "ncep_data"
   ]
  },
  {
   "cell_type": "markdown",
   "metadata": {},
   "source": [
    "#### ReGrid"
   ]
  },
  {
   "cell_type": "code",
   "execution_count": 28,
   "metadata": {},
   "outputs": [
    {
     "name": "stdout",
     "output_type": "stream",
     "text": [
      "Create weight file: nearest_s2d_73x144_96x96.nc\n",
      "Remove file nearest_s2d_73x144_96x96.nc\n"
     ]
    }
   ],
   "source": [
    "cmip5_coords = len(cmip5_data.lat) + len(cmip5_data.lon)\n",
    "ncep_coords = len(ncep_data.lat) + len(ncep_data.lon)\n",
    "\n",
    "if cmip5_coords >= era5_coords:\n",
    "    cmip5_data = regrid_data(ncep_data, cmip5_data)\n",
    "else:\n",
    "    ncep_data = regrid_data(cmip5_data, ncep_data)"
   ]
  },
  {
   "cell_type": "code",
   "execution_count": 29,
   "metadata": {},
   "outputs": [
    {
     "data": {
      "text/plain": [
       "<xarray.Dataset>\n",
       "Dimensions:  (lat: 96, lon: 96, time: 489)\n",
       "Coordinates:\n",
       "  * time     (time) datetime64[ns] 1979-01-01 1979-02-01 ... 2019-09-01\n",
       "  * lon      (lon) float64 0.0 3.75 7.5 11.25 15.0 ... 345.0 348.8 352.5 356.2\n",
       "  * lat      (lat) float64 -90.0 -88.11 -86.21 -84.32 ... 84.32 86.21 88.11 90.0\n",
       "Data variables:\n",
       "    psl      (time, lat, lon) float64 dask.array<chunksize=(489, 96, 96), meta=np.ndarray>\n",
       "    pr_wtr   (time, lat, lon) float64 dask.array<chunksize=(489, 96, 96), meta=np.ndarray>\n",
       "    pres     (time, lat, lon) float64 dask.array<chunksize=(489, 96, 96), meta=np.ndarray>"
      ]
     },
     "execution_count": 29,
     "metadata": {},
     "output_type": "execute_result"
    }
   ],
   "source": [
    "ncep_data"
   ]
  }
 ],
 "metadata": {
  "kernelspec": {
   "display_name": "Python [conda env:.conda-2019_rbig_ad]",
   "language": "python",
   "name": "conda-env-.conda-2019_rbig_ad-py"
  },
  "language_info": {
   "codemirror_mode": {
    "name": "ipython",
    "version": 3
   },
   "file_extension": ".py",
   "mimetype": "text/x-python",
   "name": "python",
   "nbconvert_exporter": "python",
   "pygments_lexer": "ipython3",
   "version": "3.6.9"
  }
 },
 "nbformat": 4,
 "nbformat_minor": 4
}
