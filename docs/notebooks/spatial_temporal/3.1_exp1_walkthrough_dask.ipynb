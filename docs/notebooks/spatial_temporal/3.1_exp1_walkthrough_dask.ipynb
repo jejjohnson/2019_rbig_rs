{
 "cells": [
  {
   "cell_type": "markdown",
   "metadata": {},
   "source": [
    "# Spatial-Temporal Experiment\n",
    "\n",
    "In this notebook, I will be walking through how we can estimate different methods based on the density cubes that we derive."
   ]
  },
  {
   "cell_type": "code",
   "execution_count": 51,
   "metadata": {},
   "outputs": [
    {
     "name": "stdout",
     "output_type": "stream",
     "text": [
      "The autoreload extension is already loaded. To reload it, use:\n",
      "  %reload_ext autoreload\n"
     ]
    }
   ],
   "source": [
    "import sys, os\n",
    "from pyprojroot import here\n",
    "root = here(project_files=[\".here\"])\n",
    "sys.path.append(str(here()))\n",
    "\n",
    "import pathlib\n",
    "\n",
    "# standard python packages\n",
    "import xarray as xr\n",
    "import pandas as pd\n",
    "import numpy as np\n",
    "\n",
    "# \n",
    "# Experiment Functions\n",
    "from src.data.esdc import get_dataset\n",
    "from src.features import Metrics\n",
    "from src.features.temporal import select_period, get_smoke_test_time, TimePeriod\n",
    "from src.features.spatial import select_region, get_europe, get_spain\n",
    "from src.models.train_models import get_similarity_scores\n",
    "from src.experiments.utils import dict_product, run_parallel_step\n",
    "\n",
    "from src.features import Metrics\n",
    "from src.features.density import get_density_cubes\n",
    "from src.features.preprocessing import standardizer_data, get_reference_cube, get_common_indices\n",
    "from src.models.similarity import cka_coefficient, rv_coefficient, rbig_it_measures\n",
    "\n",
    "# # esdc tools\n",
    "# from src.esdc.subset import select_pixel\n",
    "# from src.esdc.shape import ShapeFileExtract, rasterize\n",
    "# from esdc.transform import DensityCubes\n",
    "\n",
    "from typing import List, Dict\n",
    "import xarray as xr\n",
    "\n",
    "from tqdm import tqdm\n",
    "\n",
    "import cartopy\n",
    "import cartopy.crs as ccrs\n",
    "\n",
    "# NUMPY SETTINGS\n",
    "import numpy as onp\n",
    "onp.set_printoptions(precision=3, suppress=True)\n",
    "\n",
    "# MATPLOTLIB Settings\n",
    "import matplotlib as mpl\n",
    "import matplotlib.pyplot as plt\n",
    "%matplotlib inline\n",
    "%config InlineBackend.figure_format = 'retina'\n",
    "\n",
    "# SEABORN SETTINGS\n",
    "import seaborn as sns\n",
    "sns.set_context(context='talk',font_scale=0.7)\n",
    "# sns.set(rc={'figure.figsize': (12, 9.)})\n",
    "# sns.set_style(\"whitegrid\")\n",
    "\n",
    "# PANDAS SETTINGS\n",
    "import pandas as pd\n",
    "pd.set_option(\"display.max_rows\", 120)\n",
    "pd.set_option(\"display.max_columns\", 120)\n",
    "\n",
    "# LOGGING SETTINGS\n",
    "import sys\n",
    "import logging\n",
    "logging.basicConfig(\n",
    "    level=logging.INFO, \n",
    "    stream=sys.stdout,\n",
    "    format='%(asctime)s:%(levelname)s:%(message)s'\n",
    ")\n",
    "logger = logging.getLogger()\n",
    "#logger.setLevel(logging.INFO)\n",
    "\n",
    "%load_ext autoreload\n",
    "%autoreload 2"
   ]
  },
  {
   "cell_type": "markdown",
   "metadata": {},
   "source": [
    "## Experiment Steps"
   ]
  },
  {
   "cell_type": "markdown",
   "metadata": {},
   "source": [
    "### Global Variables"
   ]
  },
  {
   "cell_type": "markdown",
   "metadata": {},
   "source": [
    "### Parameters"
   ]
  },
  {
   "cell_type": "code",
   "execution_count": 53,
   "metadata": {},
   "outputs": [
    {
     "name": "stdout",
     "output_type": "stream",
     "text": [
      "72\n"
     ]
    }
   ],
   "source": [
    "parameters = {}\n",
    "parameters['variable'] = [\n",
    "    'root_moisture',\n",
    "    'land_surface_temperature'\n",
    "]\n",
    "parameters['region'] = [get_spain()]\n",
    "parameters['period'] = [TimePeriod(name=\"201001_201012\", start=\"Jan-2010\", end=\"Dec-2010\")]\n",
    "parameters['spatial'] = [1, 2, 3, 4, 5, 6]\n",
    "parameters['temporal'] = [1, 2, 3, 4, 5, 6]\n",
    "\n",
    "# params = list(dict_product(parameters))\n",
    "\n",
    "params = list(dict_product(parameters))\n",
    "print(len(params))\n",
    "smoke_test = True"
   ]
  },
  {
   "cell_type": "markdown",
   "metadata": {},
   "source": [
    "### Experimental Step"
   ]
  },
  {
   "cell_type": "code",
   "execution_count": 54,
   "metadata": {},
   "outputs": [],
   "source": [
    "def step(params: Dict, smoke_test: bool=False):\n",
    "    # ======================\n",
    "    # experiment - Data\n",
    "    # ======================\n",
    "    # Get DataCube\n",
    "    datacube = get_dataset(params['variable'])\n",
    "    \n",
    "#     t = clip_dataset_by_geometry(datacube, get_spain())\n",
    "    \n",
    "#     datacube = select_region(\n",
    "#         xr_data=datacube, bbox=get_spain()\n",
    "#     )[params['variable']]\n",
    "#     return t\n",
    "\n",
    "    # subset datacube (spatially)\n",
    "    datacube = select_region(\n",
    "        xr_data=datacube, bbox=params['region']\n",
    "    )[params['variable']]\n",
    "\n",
    "    # subset datacube (temporally)\n",
    "    datacube = select_period(xr_data=datacube, period=params['period'])\n",
    "\n",
    "    # get datacubes\n",
    "    reference_cube_df = get_reference_cube(data=datacube)\n",
    "\n",
    "    # get density cubes\n",
    "    density_cube_df = get_density_cubes(\n",
    "        data=datacube, \n",
    "        spatial=params['spatial'], \n",
    "        temporal=params['temporal']\n",
    "    )\n",
    "\n",
    "    # get reference dataframe\n",
    "    X, Y = get_common_indices(\n",
    "        reference_df=reference_cube_df, \n",
    "        density_df=density_cube_df\n",
    "    )\n",
    "    \n",
    "    # standardize data\n",
    "    X, Y = standardizer_data(X=X, Y=Y)\n",
    "\n",
    "    # ======================\n",
    "    # experiment - Methods\n",
    "    # ======================\n",
    "    res = get_similarity_scores(X_ref=X, Y_compare=Y, smoke_test=smoke_test)\n",
    "    \n",
    "    # Save Results\n",
    "    results = pd.DataFrame({\n",
    "        'region': params['region'].name,\n",
    "        'period': params['period'].name,\n",
    "        'variable': params['variable'],\n",
    "        'spatial': params['spatial'],\n",
    "        'temporal': params['temporal'],\n",
    "        **res\n",
    "        \n",
    "    }, index=[0])\n",
    "    return results\n"
   ]
  },
  {
   "cell_type": "code",
   "execution_count": 45,
   "metadata": {},
   "outputs": [],
   "source": [
    "from xcube.core.geom import clip_dataset_by_geometry"
   ]
  },
  {
   "cell_type": "code",
   "execution_count": 46,
   "metadata": {},
   "outputs": [
    {
     "ename": "NameError",
     "evalue": "name 'datacube' is not defined",
     "output_type": "error",
     "traceback": [
      "\u001b[0;31m---------------------------------------------------------------------------\u001b[0m",
      "\u001b[0;31mNameError\u001b[0m                                 Traceback (most recent call last)",
      "\u001b[0;32m<ipython-input-46-ca6db0fe9704>\u001b[0m in \u001b[0;36m<module>\u001b[0;34m\u001b[0m\n\u001b[0;32m----> 1\u001b[0;31m \u001b[0mclip_dataset_by_geometry\u001b[0m\u001b[0;34m(\u001b[0m\u001b[0mdatacube\u001b[0m\u001b[0;34m,\u001b[0m \u001b[0mt\u001b[0m\u001b[0;34m)\u001b[0m\u001b[0;34m\u001b[0m\u001b[0;34m\u001b[0m\u001b[0m\n\u001b[0m",
      "\u001b[0;31mNameError\u001b[0m: name 'datacube' is not defined"
     ]
    }
   ],
   "source": [
    "clip_dataset_by_geometry(datacube, t)"
   ]
  },
  {
   "cell_type": "code",
   "execution_count": 47,
   "metadata": {},
   "outputs": [
    {
     "data": {
      "text/plain": [
       "src.features.spatial.RegionShape"
      ]
     },
     "execution_count": 47,
     "metadata": {},
     "output_type": "execute_result"
    }
   ],
   "source": [
    "t = get_spain()\n",
    "type(t)"
   ]
  },
  {
   "cell_type": "code",
   "execution_count": 55,
   "metadata": {},
   "outputs": [],
   "source": [
    "results = step(params[0], smoke_test=True)"
   ]
  },
  {
   "cell_type": "code",
   "execution_count": 56,
   "metadata": {},
   "outputs": [
    {
     "data": {
      "text/html": [
       "<div>\n",
       "<style scoped>\n",
       "    .dataframe tbody tr th:only-of-type {\n",
       "        vertical-align: middle;\n",
       "    }\n",
       "\n",
       "    .dataframe tbody tr th {\n",
       "        vertical-align: top;\n",
       "    }\n",
       "\n",
       "    .dataframe thead th {\n",
       "        text-align: right;\n",
       "    }\n",
       "</style>\n",
       "<table border=\"1\" class=\"dataframe\">\n",
       "  <thead>\n",
       "    <tr style=\"text-align: right;\">\n",
       "      <th></th>\n",
       "      <th>region</th>\n",
       "      <th>period</th>\n",
       "      <th>variable</th>\n",
       "      <th>spatial</th>\n",
       "      <th>temporal</th>\n",
       "      <th>rv_coeff</th>\n",
       "      <th>rv_x_norm</th>\n",
       "      <th>rv_y_norm</th>\n",
       "      <th>rv_xy_norm</th>\n",
       "      <th>rv_time</th>\n",
       "      <th>rbig_H_x</th>\n",
       "      <th>rbig_H_y</th>\n",
       "      <th>rbig_H_time</th>\n",
       "      <th>rbig_I_xy</th>\n",
       "      <th>rbig_I_time</th>\n",
       "      <th>rbig_vi_coeff</th>\n",
       "    </tr>\n",
       "  </thead>\n",
       "  <tbody>\n",
       "    <tr>\n",
       "      <th>0</th>\n",
       "      <td>spain</td>\n",
       "      <td>201001_201012</td>\n",
       "      <td>root_moisture</td>\n",
       "      <td>1</td>\n",
       "      <td>1</td>\n",
       "      <td>0.008708</td>\n",
       "      <td>99.076675</td>\n",
       "      <td>98.467598</td>\n",
       "      <td>84.950752</td>\n",
       "      <td>0.004481</td>\n",
       "      <td>1.957902</td>\n",
       "      <td>1.929358</td>\n",
       "      <td>0.172222</td>\n",
       "      <td>0.030747</td>\n",
       "      <td>0.482542</td>\n",
       "      <td>0.01582</td>\n",
       "    </tr>\n",
       "  </tbody>\n",
       "</table>\n",
       "</div>"
      ],
      "text/plain": [
       "  region         period       variable  spatial  temporal  rv_coeff  \\\n",
       "0  spain  201001_201012  root_moisture        1         1  0.008708   \n",
       "\n",
       "   rv_x_norm  rv_y_norm  rv_xy_norm   rv_time  rbig_H_x  rbig_H_y  \\\n",
       "0  99.076675  98.467598   84.950752  0.004481  1.957902  1.929358   \n",
       "\n",
       "   rbig_H_time  rbig_I_xy  rbig_I_time  rbig_vi_coeff  \n",
       "0     0.172222   0.030747     0.482542        0.01582  "
      ]
     },
     "execution_count": 56,
     "metadata": {},
     "output_type": "execute_result"
    }
   ],
   "source": [
    "results"
   ]
  },
  {
   "cell_type": "code",
   "execution_count": 15,
   "metadata": {},
   "outputs": [
    {
     "data": {
      "text/plain": [
       "shapely.geometry.polygon.Polygon"
      ]
     },
     "execution_count": 15,
     "metadata": {},
     "output_type": "execute_result"
    }
   ],
   "source": [
    "t = get_spain()\n",
    "from xcube."
   ]
  },
  {
   "cell_type": "code",
   "execution_count": 21,
   "metadata": {},
   "outputs": [
    {
     "data": {
      "text/plain": [
       "{'rv_coeff': 0.9403951,\n",
       " 'rv_x_norm': 44288.883,\n",
       " 'rv_y_norm': 357065.0,\n",
       " 'rv_xy_norm': 14871418000.0,\n",
       " 'rv_time': 38.40082359313965,\n",
       " 'rbig_H_x': 1.9247062049009207,\n",
       " 'rbig_H_y': 4.4428976758211896,\n",
       " 'rbig_H_time': 3.0350914001464844,\n",
       " 'rbig_I_xy': 3.649542912651551,\n",
       " 'rbig_I_time': 31.18929934501648,\n",
       " 'rbig_vi_coeff': 1.2480244562128495}"
      ]
     },
     "execution_count": 21,
     "metadata": {},
     "output_type": "execute_result"
    }
   ],
   "source": [
    "res"
   ]
  },
  {
   "cell_type": "code",
   "execution_count": 7,
   "metadata": {},
   "outputs": [
    {
     "data": {
      "text/plain": [
       "{'rv_coeff': 0.9697245,\n",
       " 'rv_x_norm': 26692.102,\n",
       " 'rv_y_norm': 77907.13,\n",
       " 'rv_xy_norm': 2016547100.0,\n",
       " 'rbig_H_x': 1.855240533094599,\n",
       " 'rbig_H_y': 1.0902273375895914,\n",
       " 'rbig_I_xy': 5.405821100129361,\n",
       " 'rbig_vi_coeff': 3.801045104354525}"
      ]
     },
     "execution_count": 7,
     "metadata": {},
     "output_type": "execute_result"
    }
   ],
   "source": [
    "res"
   ]
  },
  {
   "cell_type": "code",
   "execution_count": 69,
   "metadata": {
    "jupyter": {
     "source_hidden": true
    }
   },
   "outputs": [],
   "source": [
    "from prefect import task, Flow, Parameter\n",
    "\n",
    "@task # get Dataset\n",
    "def get_dataset(variable: str)-> xr.Dataset:\n",
    "    return xr.open_zarr(str(filename))[[variable]]\n",
    "\n",
    "@task # subset datacube\n",
    "def cube_spatial_subset(xr_data: xr.Dataset, bbox: Region) -> xr.Dataset:\n",
    "    \"\"\"Function to spatially subset an xarray dataset from a bounding box.\"\"\"\n",
    "    # get bounding box\n",
    "    bbox = shapely.geometry.box(\n",
    "        bbox.lonmin,\n",
    "        bbox.latmin,\n",
    "        bbox.lonmax,\n",
    "        bbox.latmax\n",
    "    )\n",
    "    # subset datacube\n",
    "    return clip_dataset_by_geometry(xr_data, bbox)\n",
    "\n",
    "@task \n",
    "def cube_temporal_subset(xr_data: xr.DataArray, period: Tuple[str, str]) -> xr.DataArray:\n",
    "    \"\"\"Function to temporally subset an xarray dataset from a tuple of\n",
    "    start date and end date\n",
    "    \"\"\"\n",
    "    return xr_data.sel(time=slice(period.start, period.end))\n",
    "\n",
    "@task # get reference cube\n",
    "def get_reference_cube(data: xr.DataArray) -> pd.DataFrame:\n",
    "    \"\"\"Wrapper Function to get reference cube\"\"\"\n",
    "    return data.to_dataframe().dropna().reorder_levels(levels)\n",
    "\n",
    "@task # get density cubes\n",
    "def get_density_cubes(data: xr.DataArray, spatial: int, temporal: int) -> pd.DataFrame:\n",
    "    \"\"\"Wrapper Function to get density cubes from a dataarray\"\"\"\n",
    "    return DensityCubes(\n",
    "        spatial_window=spatial,\n",
    "        time_window=temporal\n",
    "    ).get_minicubes(data).reorder_levels(levels)\n",
    "    \n",
    "@task # get common indices\n",
    "def get_common_indices(\n",
    "    reference_df: pd.DataFrame, density_df: pd.DataFrame\n",
    ") -> Tuple[pd.DataFrame, pd.DataFrame]:\n",
    "    idx = density_df.index.intersection(reference_df.index)\n",
    "    return reference_df.loc[idx,:], density_df.loc[idx, :]\n",
    "\n",
    "@task # standardize the data before\n",
    "def standardizer_data(X: pd.DataFrame, Y: pd.DataFrame) -> Tuple[pd.DataFrame, pd.DataFrame]:\n",
    "    \n",
    "    # standardizer\n",
    "    normalizer = StandardScaler(with_mean=True, with_std=True)\n",
    "    \n",
    "    # standardize X values\n",
    "    X_values = normalizer.fit_transform(X.values)\n",
    "    X = pd.DataFrame(data=X_values, index=X.index, columns=X.columns)\n",
    "    \n",
    "    # standardize Y Values\n",
    "    Y_values = normalizer.fit_transform(Y.values)\n",
    "    Y = pd.DataFrame(data=Y_values, index=Y.index, columns=Y.columns)\n",
    "    \n",
    "    return X, Y\n",
    "\n",
    "@task\n",
    "def get_similarity_scores(X_ref: pd.DataFrame, Y_compare: pd.DataFrame) -> Dict:\n",
    "    \n",
    "    # RV Coefficient\n",
    "    rv_results = rv_coefficient(X_ref, Y_compare)\n",
    "    \n",
    "#     # CKA Coefficient\n",
    "#     cka_results = cka_coefficient(X_ref, Y_compare)\n",
    "    \n",
    "    # RBIG Coefficient\n",
    "    rbig_results = rbig_it_measures(X_ref, Y_compare)\n",
    "    \n",
    "    results = {\n",
    "        **rv_results,\n",
    "#         **cka_results,\n",
    "        **rbig_results\n",
    "    }\n",
    "    \n",
    "    return results"
   ]
  },
  {
   "cell_type": "code",
   "execution_count": 70,
   "metadata": {},
   "outputs": [],
   "source": []
  },
  {
   "cell_type": "markdown",
   "metadata": {},
   "source": [
    "### Experiment Run"
   ]
  },
  {
   "cell_type": "code",
   "execution_count": 71,
   "metadata": {},
   "outputs": [],
   "source": [
    "# variable = 'gross_primary_productivity'\n",
    "# region = get_europe()\n",
    "\n",
    "# datacube = get_dataset(variable)\n",
    "\n",
    "# datacube = subset_cube(xr_data=datacube, bbox=region)\n"
   ]
  },
  {
   "cell_type": "code",
   "execution_count": 72,
   "metadata": {},
   "outputs": [],
   "source": [
    "logger.setLevel(logging.INFO)\n",
    "\n",
    "with Flow(\"Experiment-Step\") as flow:\n",
    "    \n",
    "    # ======================\n",
    "    # experiment parameters\n",
    "    # ======================\n",
    "    variable = Parameter(\"variable\", default='gross_primary_productivity')\n",
    "    region = Parameter(\"region\", default=get_europe())\n",
    "    period = Parameter(\"period\", default=get_test_time())\n",
    "    spatial = Parameter(\"spatial\", default=1)\n",
    "    temporal = Parameter(\"temporal\", default=3)\n",
    "    \n",
    "    # ======================\n",
    "    # experiment - Data\n",
    "    # ======================\n",
    "    # Get DataCube\n",
    "    datacube = get_dataset(variable)\n",
    "    \n",
    "    # subset datacube (spatially)\n",
    "    datacube = cube_spatial_subset(xr_data=datacube, bbox=region)[variable]\n",
    "\n",
    "    # subset datacube (temporally)\n",
    "    datacube = cube_temporal_subset(xr_data=datacube, period=period)\n",
    "    \n",
    "    # get datacubes\n",
    "    reference_cube_df = get_reference_cube(data=datacube)\n",
    "    \n",
    "    # get density cubes\n",
    "    density_cube_df = get_density_cubes(\n",
    "        data=datacube, \n",
    "        spatial=spatial, \n",
    "        temporal=temporal\n",
    "    )\n",
    "    \n",
    "    # get reference dataframe\n",
    "    dfs = get_common_indices(\n",
    "        reference_df=reference_cube_df, \n",
    "        density_df=density_cube_df\n",
    "    )\n",
    "    \n",
    "    # standardize data\n",
    "    dfs = standardizer_data(X=dfs[0], Y=dfs[1])\n",
    "    \n",
    "    # ======================\n",
    "    # experiment - Methods\n",
    "    # ======================\n",
    "    res = get_similarity_scores(X_ref=dfs[0], Y_compare=dfs[1])"
   ]
  },
  {
   "cell_type": "code",
   "execution_count": 73,
   "metadata": {},
   "outputs": [
    {
     "name": "stdout",
     "output_type": "stream",
     "text": [
      "[2020-05-01 10:16:21] INFO - prefect.FlowRunner | Beginning Flow run for 'Experiment-Step'\n",
      "2020-05-01 12:16:21,361:INFO:Beginning Flow run for 'Experiment-Step'\n",
      "[2020-05-01 10:16:21] INFO - prefect.FlowRunner | Starting flow run.\n",
      "2020-05-01 12:16:21,372:INFO:Starting flow run.\n",
      "[2020-05-01 10:16:21] INFO - prefect.TaskRunner | Task 'variable': Starting task run...\n",
      "2020-05-01 12:16:21,411:INFO:Task 'variable': Starting task run...\n",
      "[2020-05-01 10:16:21] INFO - prefect.TaskRunner | Task 'variable': finished task run for task with final state: 'Success'\n",
      "2020-05-01 12:16:21,424:INFO:Task 'variable': finished task run for task with final state: 'Success'\n",
      "[2020-05-01 10:16:21] INFO - prefect.TaskRunner | Task 'region': Starting task run...\n",
      "2020-05-01 12:16:21,454:INFO:Task 'region': Starting task run...\n",
      "[2020-05-01 10:16:21] INFO - prefect.TaskRunner | Task 'region': finished task run for task with final state: 'Success'\n",
      "2020-05-01 12:16:21,467:INFO:Task 'region': finished task run for task with final state: 'Success'\n",
      "[2020-05-01 10:16:21] INFO - prefect.TaskRunner | Task 'period': Starting task run...\n",
      "2020-05-01 12:16:21,496:INFO:Task 'period': Starting task run...\n",
      "[2020-05-01 10:16:21] INFO - prefect.TaskRunner | Task 'period': finished task run for task with final state: 'Success'\n",
      "2020-05-01 12:16:21,509:INFO:Task 'period': finished task run for task with final state: 'Success'\n",
      "[2020-05-01 10:16:21] INFO - prefect.TaskRunner | Task 'temporal': Starting task run...\n",
      "2020-05-01 12:16:21,539:INFO:Task 'temporal': Starting task run...\n",
      "[2020-05-01 10:16:21] INFO - prefect.TaskRunner | Task 'temporal': finished task run for task with final state: 'Success'\n",
      "2020-05-01 12:16:21,551:INFO:Task 'temporal': finished task run for task with final state: 'Success'\n",
      "[2020-05-01 10:16:21] INFO - prefect.TaskRunner | Task 'get_dataset': Starting task run...\n",
      "2020-05-01 12:16:21,581:INFO:Task 'get_dataset': Starting task run...\n",
      "[2020-05-01 10:16:22] INFO - prefect.TaskRunner | Task 'get_dataset': finished task run for task with final state: 'Success'\n",
      "2020-05-01 12:16:22,485:INFO:Task 'get_dataset': finished task run for task with final state: 'Success'\n",
      "[2020-05-01 10:16:22] INFO - prefect.TaskRunner | Task 'cube_spatial_subset': Starting task run...\n",
      "2020-05-01 12:16:22,505:INFO:Task 'cube_spatial_subset': Starting task run...\n",
      "[2020-05-01 10:16:22] INFO - prefect.TaskRunner | Task 'cube_spatial_subset': finished task run for task with final state: 'Success'\n",
      "2020-05-01 12:16:22,525:INFO:Task 'cube_spatial_subset': finished task run for task with final state: 'Success'\n",
      "[2020-05-01 10:16:22] INFO - prefect.TaskRunner | Task 'GetItem': Starting task run...\n",
      "2020-05-01 12:16:22,545:INFO:Task 'GetItem': Starting task run...\n",
      "[2020-05-01 10:16:22] INFO - prefect.TaskRunner | Task 'GetItem': finished task run for task with final state: 'Success'\n",
      "2020-05-01 12:16:22,554:INFO:Task 'GetItem': finished task run for task with final state: 'Success'\n",
      "[2020-05-01 10:16:22] INFO - prefect.TaskRunner | Task 'cube_temporal_subset': Starting task run...\n",
      "2020-05-01 12:16:22,574:INFO:Task 'cube_temporal_subset': Starting task run...\n",
      "[2020-05-01 10:16:22] INFO - prefect.TaskRunner | Task 'cube_temporal_subset': finished task run for task with final state: 'Success'\n",
      "2020-05-01 12:16:22,585:INFO:Task 'cube_temporal_subset': finished task run for task with final state: 'Success'\n",
      "[2020-05-01 10:16:22] INFO - prefect.TaskRunner | Task 'get_reference_cube': Starting task run...\n",
      "2020-05-01 12:16:22,605:INFO:Task 'get_reference_cube': Starting task run...\n",
      "[2020-05-01 10:16:22] INFO - prefect.TaskRunner | Task 'get_reference_cube': finished task run for task with final state: 'Success'\n",
      "2020-05-01 12:16:22,653:INFO:Task 'get_reference_cube': finished task run for task with final state: 'Success'\n",
      "[2020-05-01 10:16:22] INFO - prefect.TaskRunner | Task 'spatial': Starting task run...\n",
      "2020-05-01 12:16:22,687:INFO:Task 'spatial': Starting task run...\n",
      "[2020-05-01 10:16:22] INFO - prefect.TaskRunner | Task 'spatial': finished task run for task with final state: 'Success'\n",
      "2020-05-01 12:16:22,700:INFO:Task 'spatial': finished task run for task with final state: 'Success'\n",
      "[2020-05-01 10:16:22] INFO - prefect.TaskRunner | Task 'get_density_cubes': Starting task run...\n",
      "2020-05-01 12:16:22,729:INFO:Task 'get_density_cubes': Starting task run...\n",
      "[2020-05-01 10:16:22] INFO - prefect.TaskRunner | Task 'get_density_cubes': finished task run for task with final state: 'Success'\n",
      "2020-05-01 12:16:22,769:INFO:Task 'get_density_cubes': finished task run for task with final state: 'Success'\n",
      "[2020-05-01 10:16:22] INFO - prefect.TaskRunner | Task 'get_common_indices': Starting task run...\n",
      "2020-05-01 12:16:22,799:INFO:Task 'get_common_indices': Starting task run...\n",
      "[2020-05-01 10:16:23] INFO - prefect.TaskRunner | Task 'get_common_indices': finished task run for task with final state: 'Success'\n",
      "2020-05-01 12:16:23,766:INFO:Task 'get_common_indices': finished task run for task with final state: 'Success'\n",
      "[2020-05-01 10:16:23] INFO - prefect.TaskRunner | Task 'GetItem': Starting task run...\n",
      "2020-05-01 12:16:23,786:INFO:Task 'GetItem': Starting task run...\n",
      "[2020-05-01 10:16:23] INFO - prefect.TaskRunner | Task 'GetItem': finished task run for task with final state: 'Success'\n",
      "2020-05-01 12:16:23,795:INFO:Task 'GetItem': finished task run for task with final state: 'Success'\n",
      "[2020-05-01 10:16:23] INFO - prefect.TaskRunner | Task 'GetItem': Starting task run...\n",
      "2020-05-01 12:16:23,815:INFO:Task 'GetItem': Starting task run...\n",
      "[2020-05-01 10:16:23] INFO - prefect.TaskRunner | Task 'GetItem': finished task run for task with final state: 'Success'\n",
      "2020-05-01 12:16:23,824:INFO:Task 'GetItem': finished task run for task with final state: 'Success'\n",
      "[2020-05-01 10:16:23] INFO - prefect.TaskRunner | Task 'standardizer_data': Starting task run...\n",
      "2020-05-01 12:16:23,843:INFO:Task 'standardizer_data': Starting task run...\n",
      "[2020-05-01 10:16:23] INFO - prefect.TaskRunner | Task 'standardizer_data': finished task run for task with final state: 'Success'\n",
      "2020-05-01 12:16:23,855:INFO:Task 'standardizer_data': finished task run for task with final state: 'Success'\n",
      "[2020-05-01 10:16:23] INFO - prefect.TaskRunner | Task 'GetItem': Starting task run...\n",
      "2020-05-01 12:16:23,874:INFO:Task 'GetItem': Starting task run...\n",
      "[2020-05-01 10:16:23] INFO - prefect.TaskRunner | Task 'GetItem': finished task run for task with final state: 'Success'\n",
      "2020-05-01 12:16:23,883:INFO:Task 'GetItem': finished task run for task with final state: 'Success'\n",
      "[2020-05-01 10:16:23] INFO - prefect.TaskRunner | Task 'GetItem': Starting task run...\n",
      "2020-05-01 12:16:23,903:INFO:Task 'GetItem': Starting task run...\n",
      "[2020-05-01 10:16:23] INFO - prefect.TaskRunner | Task 'GetItem': finished task run for task with final state: 'Success'\n",
      "2020-05-01 12:16:23,912:INFO:Task 'GetItem': finished task run for task with final state: 'Success'\n",
      "[2020-05-01 10:16:23] INFO - prefect.TaskRunner | Task 'get_similarity_scores': Starting task run...\n",
      "2020-05-01 12:16:23,931:INFO:Task 'get_similarity_scores': Starting task run...\n",
      "[2020-05-01 10:16:50] INFO - prefect.TaskRunner | Task 'get_similarity_scores': finished task run for task with final state: 'Success'\n",
      "2020-05-01 12:16:50,094:INFO:Task 'get_similarity_scores': finished task run for task with final state: 'Success'\n",
      "[2020-05-01 10:16:50] INFO - prefect.FlowRunner | Flow run SUCCESS: all reference tasks succeeded\n",
      "2020-05-01 12:16:50,097:INFO:Flow run SUCCESS: all reference tasks succeeded\n"
     ]
    }
   ],
   "source": [
    "    \n",
    "state = flow.run()"
   ]
  },
  {
   "cell_type": "code",
   "execution_count": 74,
   "metadata": {},
   "outputs": [
    {
     "data": {
      "text/plain": [
       "{'rv_coeff': 0.9697258,\n",
       " 'rv_x_norm': 26692.072,\n",
       " 'rv_y_norm': 77907.49,\n",
       " 'rv_xy_norm': 2016556900.0,\n",
       " 'rbig_H_x': 1.855240533094599,\n",
       " 'rbig_H_y': 1.1286197933913034,\n",
       " 'rbig_I_xy': 5.499353957238775,\n",
       " 'rbig_vi_coeff': 3.8004736863738287}"
      ]
     },
     "execution_count": 74,
     "metadata": {},
     "output_type": "execute_result"
    }
   ],
   "source": [
    "state.result[res].result"
   ]
  },
  {
   "cell_type": "code",
   "execution_count": null,
   "metadata": {},
   "outputs": [],
   "source": []
  }
 ],
 "metadata": {
  "kernelspec": {
   "display_name": "Python [conda env:.conda-rbig_eo]",
   "language": "python",
   "name": "conda-env-.conda-rbig_eo-py"
  },
  "language_info": {
   "codemirror_mode": {
    "name": "ipython",
    "version": 3
   },
   "file_extension": ".py",
   "mimetype": "text/x-python",
   "name": "python",
   "nbconvert_exporter": "python",
   "pygments_lexer": "ipython3",
   "version": "3.8.2"
  }
 },
 "nbformat": 4,
 "nbformat_minor": 4
}
