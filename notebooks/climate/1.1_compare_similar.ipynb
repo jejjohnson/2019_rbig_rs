{
 "cells": [
  {
   "cell_type": "markdown",
   "metadata": {},
   "source": [
    "# Comparing Two Climate Models\n",
    "\n",
    "In this notebook, I will be comparing two climate reanalysis models:\n",
    "\n",
    "* NCEP-DOE Reanalysis 2: Surface\n",
    "* ERA5\n",
    "\n",
    "I will be looking at the following variables:\n",
    "\n",
    "* Surface Pressure\n",
    "* Mean Sea Level Pressure\n",
    "* Total Column Water\n",
    "\n",
    "The idea is simple: these two models should have very similar properties. I will be trying to user RBIG in order to assess how similar these models are. I'll be looking at the following IT measures\n",
    "\n",
    "* Entropy\n",
    "* Total Correlation\n",
    "* Mutual Information\n",
    "\n",
    "If these climate models are that similar, then they should exhibit similar IT measures."
   ]
  },
  {
   "cell_type": "markdown",
   "metadata": {},
   "source": [
    "## Data - Climate Models"
   ]
  },
  {
   "cell_type": "code",
   "execution_count": 1,
   "metadata": {},
   "outputs": [],
   "source": [
    "import os, sys\n",
    "cwd = os.getcwd()\n",
    "source_path = f\"{cwd}/../../\"\n",
    "sys.path.insert(0, f'{source_path}')\n",
    "\n",
    "import numpy as np\n",
    "\n",
    "# Import RBIG Helper\n",
    "from src.models.train_models import run_rbig_models\n",
    "\n",
    "# ESDC tools\n",
    "sys.path.insert(0, f'/home/emmanuel/code/py_esdc')\n",
    "from esdc.preprocessing import normalize_temporal\n",
    "from esdc.transform import regrid_data\n",
    "\n",
    "import cdsapi\n",
    "from zipfile import ZipFile\n",
    "import pandas as pd\n",
    "import xarray as xr\n",
    "from tqdm import tqdm\n",
    "from sklearn import preprocessing\n",
    "\n",
    "import seaborn as sns\n",
    "import matplotlib.pyplot as plt\n",
    "plt.style.use('ggplot')\n",
    "%matplotlib inline\n",
    "\n",
    "%load_ext autoreload\n",
    "%autoreload 2"
   ]
  },
  {
   "cell_type": "code",
   "execution_count": 2,
   "metadata": {},
   "outputs": [],
   "source": [
    "data_path = f\"/home/emmanuel/projects/2020_rbig_rs/data/climate/raw/\"\n",
    "results_path = f\"/home/emmanuel/projects/2020_rbig_rs/data/climate/results/\"\n",
    "fig_path = f\"/home/emmanuel/projects/2020_rbig_rs/reports/figures/climate/\""
   ]
  },
  {
   "cell_type": "markdown",
   "metadata": {},
   "source": [
    "#### ERA5"
   ]
  },
  {
   "cell_type": "code",
   "execution_count": 3,
   "metadata": {},
   "outputs": [
    {
     "data": {
      "text/plain": [
       "<xarray.Dataset>\n",
       "Dimensions:  (lat: 721, lon: 1440, time: 487)\n",
       "Coordinates:\n",
       "  * lon      (lon) float32 0.0 0.25 0.5 0.75 1.0 ... 359.0 359.25 359.5 359.75\n",
       "  * lat      (lat) float32 90.0 89.75 89.5 89.25 ... -89.25 -89.5 -89.75 -90.0\n",
       "  * time     (time) datetime64[ns] 1979-01-01 1979-02-01 ... 2019-07-01\n",
       "Data variables:\n",
       "    mslp     (time, lat, lon) float32 ...\n",
       "    sp       (time, lat, lon) float32 ...\n",
       "Attributes:\n",
       "    Conventions:  CF-1.6\n",
       "    history:      2019-10-07 09:20:10 GMT by grib_to_netcdf-2.10.0: /opt/ecmw...\n",
       "    model_id:     era5"
      ]
     },
     "execution_count": 3,
     "metadata": {},
     "output_type": "execute_result"
    }
   ],
   "source": [
    "era5_data = xr.open_dataset(f\"{data_path}ERA5.nc\")\n",
    "era5_data = era5_data.rename({'msl': 'mslp', 'latitude': 'lat', 'longitude': 'lon'})\n",
    "# era5_data = era5_data.rename({'latitude': 'lat'})\n",
    "# era5_data.attrs['model_id'] = 'era5'\n",
    "# rescale model from 0.25 to 2.5 degrees\n",
    "# era5_data = era5_data.coarsen(lat=10, lon=10, boundary='pad').mean()\n",
    "era5_data.attrs['model_id'] = 'era5'\n",
    "era5_data"
   ]
  },
  {
   "cell_type": "markdown",
   "metadata": {},
   "source": [
    "#### NCAR-NCEP-DOE-II"
   ]
  },
  {
   "cell_type": "code",
   "execution_count": 5,
   "metadata": {},
   "outputs": [
    {
     "data": {
      "text/plain": [
       "<xarray.Dataset>\n",
       "Dimensions:    (lat: 73, lon: 144, nbnds: 2, time: 489)\n",
       "Coordinates:\n",
       "  * lat        (lat) float32 90.0 87.5 85.0 82.5 ... -82.5 -85.0 -87.5 -90.0\n",
       "  * lon        (lon) float32 0.0 2.5 5.0 7.5 10.0 ... 350.0 352.5 355.0 357.5\n",
       "  * time       (time) datetime64[ns] 1979-01-01 1979-02-01 ... 2019-09-01\n",
       "Dimensions without coordinates: nbnds\n",
       "Data variables:\n",
       "    mslp       (time, lat, lon) float32 dask.array<chunksize=(489, 73, 144), meta=np.ndarray>\n",
       "    time_bnds  (time, nbnds) datetime64[ns] dask.array<chunksize=(489, 2), meta=np.ndarray>\n",
       "    pr_wtr     (time, lat, lon) float32 dask.array<chunksize=(489, 73, 144), meta=np.ndarray>\n",
       "    sp         (time, lat, lon) float32 dask.array<chunksize=(489, 73, 144), meta=np.ndarray>\n",
       "Attributes:\n",
       "    Conventions:    CF-1.0\n",
       "    title:          Monthly NCEP/DOE Reanalysis 2\n",
       "    history:        created 2002/03 by Hoop (netCDF2.3)\n",
       "    comments:       Data is from \\nNCEP/DOE AMIP-II Reanalysis (Reanalysis-2)...\n",
       "    platform:       Model\n",
       "    source:         NCEP/DOE AMIP-II Reanalysis (Reanalysis-2) Model\n",
       "    institution:    National Centers for Environmental Prediction\n",
       "    dataset_title:  NCEP-DOE AMIP-II Reanalysis\n",
       "    References:     https://www.esrl.noaa.gov/psd/data/gridded/data.ncep.rean...\n",
       "    source_url:     http://www.cpc.ncep.noaa.gov/products/wesley/reanalysis2/\n",
       "    model_id:       ncar_ncep_doe_2"
      ]
     },
     "execution_count": 5,
     "metadata": {},
     "output_type": "execute_result"
    }
   ],
   "source": [
    "ncep_data = xr.open_mfdataset(f\"{data_path}*mon.mean.nc\")\n",
    "ncep_data = ncep_data.rename({'pres': 'sp'})\n",
    "ncep_data.attrs['model_id'] = 'ncar_ncep_doe_2'\n",
    "ncep_data"
   ]
  },
  {
   "cell_type": "markdown",
   "metadata": {},
   "source": [
    "#### Regridding"
   ]
  },
  {
   "cell_type": "code",
   "execution_count": 15,
   "metadata": {},
   "outputs": [
    {
     "name": "stdout",
     "output_type": "stream",
     "text": [
      "Reuse existing file: nearest_s2d_721x1440_73x144.nc\n"
     ]
    }
   ],
   "source": [
    "era5_regrid = regrid_data(ncep_data.mslp, era5_data.mslp)"
   ]
  },
  {
   "cell_type": "code",
   "execution_count": 16,
   "metadata": {},
   "outputs": [],
   "source": [
    "era5_data_regrid = xr.Dataset()"
   ]
  },
  {
   "cell_type": "code",
   "execution_count": 20,
   "metadata": {},
   "outputs": [],
   "source": [
    "era5_data_regrid = xr.Dataset()\n",
    "era5_data_regrid['mslp'] = era5_regrid\n",
    "era5_data_regrid.attrs = era5_data.attrs"
   ]
  },
  {
   "cell_type": "code",
   "execution_count": 21,
   "metadata": {},
   "outputs": [
    {
     "data": {
      "text/plain": [
       "<xarray.Dataset>\n",
       "Dimensions:  (lat: 73, lon: 144, time: 487)\n",
       "Coordinates:\n",
       "  * time     (time) datetime64[ns] 1979-01-01 1979-02-01 ... 2019-07-01\n",
       "  * lon      (lon) float32 0.0 2.5 5.0 7.5 10.0 ... 350.0 352.5 355.0 357.5\n",
       "  * lat      (lat) float32 90.0 87.5 85.0 82.5 80.0 ... -82.5 -85.0 -87.5 -90.0\n",
       "Data variables:\n",
       "    mslp     (time, lat, lon) float64 1.027e+05 1.027e+05 ... 1.016e+05\n",
       "Attributes:\n",
       "    Conventions:  CF-1.6\n",
       "    history:      2019-10-07 09:20:10 GMT by grib_to_netcdf-2.10.0: /opt/ecmw...\n",
       "    model_id:     era5"
      ]
     },
     "execution_count": 21,
     "metadata": {},
     "output_type": "execute_result"
    }
   ],
   "source": [
    "era5_data_regrid"
   ]
  },
  {
   "cell_type": "markdown",
   "metadata": {},
   "source": [
    "### CMIP5"
   ]
  },
  {
   "cell_type": "code",
   "execution_count": 23,
   "metadata": {},
   "outputs": [
    {
     "data": {
      "text/plain": [
       "<xarray.Dataset>\n",
       "Dimensions:    (bnds: 2, lat: 90, lon: 144, time: 240)\n",
       "Coordinates:\n",
       "  * time       (time) object 2006-01-16 12:00:00 ... 2025-12-16 12:00:00\n",
       "  * lat        (lat) float64 -89.0 -87.0 -85.0 -83.0 ... 83.0 85.0 87.0 89.0\n",
       "  * lon        (lon) float64 1.25 3.75 6.25 8.75 ... 351.2 353.8 356.2 358.8\n",
       "Dimensions without coordinates: bnds\n",
       "Data variables:\n",
       "    time_bnds  (time, bnds) object ...\n",
       "    lat_bnds   (lat, bnds) float64 ...\n",
       "    lon_bnds   (lon, bnds) float64 ...\n",
       "    mslp       (time, lat, lon) float32 ...\n",
       "Attributes:\n",
       "    institution:            NASA/GISS (Goddard Institute for Space Studies) N...\n",
       "    institute_id:           NASA-GISS\n",
       "    experiment_id:          rcp85\n",
       "    source:                 GISS-E2-R-E135RCP85aF40oQ32 Atmosphere: GISS-E2; ...\n",
       "    model_id:               cmip5\n",
       "    forcing:                GHG, LU, Sl, Vl, BC, OC, SA, Oz (also includes or...\n",
       "    parent_experiment_id:   historical\n",
       "    parent_experiment_rip:  r1i1p1\n",
       "    branch_time:            2006.0\n",
       "    contact:                Kenneth Lo (cdkkl@giss.nasa.gov)\n",
       "    references:             www.giss.nasa.gov/research/modeling\n",
       "    initialization_method:  1\n",
       "    physics_version:        1\n",
       "    tracking_id:            71ff3d6b-02eb-470f-a25d-5e79c1b8c1b5\n",
       "    product:                output\n",
       "    experiment:             RCP8.5\n",
       "    frequency:              mon\n",
       "    creation_date:          2011-08-30T18:58:55Z\n",
       "    history:                2011-08-30T18:58:55Z CMOR rewrote data to comply ...\n",
       "    Conventions:            CF-1.4\n",
       "    project_id:             CMIP5\n",
       "    table_id:               Table Amon (31 January 2011) 53b766a395ac41696af4...\n",
       "    title:                  GISS-E2-R model output prepared for CMIP5 RCP8.5\n",
       "    parent_experiment:      historical\n",
       "    modeling_realm:         atmos\n",
       "    realization:            1\n",
       "    cmor_version:           2.5.7"
      ]
     },
     "execution_count": 23,
     "metadata": {},
     "output_type": "execute_result"
    }
   ],
   "source": [
    "cmip5_data = xr.open_dataset(f\"{data_path}CMIP5.nc\")\n",
    "cmip5_data = cmip5_data.rename({'psl': 'mslp'})\n",
    "\n",
    "# rescale model from 0.25 to 2.5 degrees\n",
    "# cmip5_data = cmip5_data.coarsen(lat=1, boundary='pad').mean()\n",
    "cmip5_data.attrs['model_id'] = 'cmip5'\n",
    "cmip5_data"
   ]
  },
  {
   "cell_type": "code",
   "execution_count": 25,
   "metadata": {},
   "outputs": [
    {
     "name": "stdout",
     "output_type": "stream",
     "text": [
      "Create weight file: nearest_s2d_90x144_73x144.nc\n"
     ]
    },
    {
     "data": {
      "text/plain": [
       "<xarray.Dataset>\n",
       "Dimensions:  (lat: 73, lon: 144, time: 240)\n",
       "Coordinates:\n",
       "  * time     (time) object 2006-01-16 12:00:00 ... 2025-12-16 12:00:00\n",
       "  * lon      (lon) float32 0.0 2.5 5.0 7.5 10.0 ... 350.0 352.5 355.0 357.5\n",
       "  * lat      (lat) float32 90.0 87.5 85.0 82.5 80.0 ... -82.5 -85.0 -87.5 -90.0\n",
       "Data variables:\n",
       "    mslp     (time, lat, lon) float64 9.993e+04 9.993e+04 ... 9.985e+04\n",
       "Attributes:\n",
       "    institution:            NASA/GISS (Goddard Institute for Space Studies) N...\n",
       "    institute_id:           NASA-GISS\n",
       "    experiment_id:          rcp85\n",
       "    source:                 GISS-E2-R-E135RCP85aF40oQ32 Atmosphere: GISS-E2; ...\n",
       "    model_id:               cmip5\n",
       "    forcing:                GHG, LU, Sl, Vl, BC, OC, SA, Oz (also includes or...\n",
       "    parent_experiment_id:   historical\n",
       "    parent_experiment_rip:  r1i1p1\n",
       "    branch_time:            2006.0\n",
       "    contact:                Kenneth Lo (cdkkl@giss.nasa.gov)\n",
       "    references:             www.giss.nasa.gov/research/modeling\n",
       "    initialization_method:  1\n",
       "    physics_version:        1\n",
       "    tracking_id:            71ff3d6b-02eb-470f-a25d-5e79c1b8c1b5\n",
       "    product:                output\n",
       "    experiment:             RCP8.5\n",
       "    frequency:              mon\n",
       "    creation_date:          2011-08-30T18:58:55Z\n",
       "    history:                2011-08-30T18:58:55Z CMOR rewrote data to comply ...\n",
       "    Conventions:            CF-1.4\n",
       "    project_id:             CMIP5\n",
       "    table_id:               Table Amon (31 January 2011) 53b766a395ac41696af4...\n",
       "    title:                  GISS-E2-R model output prepared for CMIP5 RCP8.5\n",
       "    parent_experiment:      historical\n",
       "    modeling_realm:         atmos\n",
       "    realization:            1\n",
       "    cmor_version:           2.5.7"
      ]
     },
     "execution_count": 25,
     "metadata": {},
     "output_type": "execute_result"
    }
   ],
   "source": [
    "cmip5_regrid = regrid_data(ncep_data.mslp, cmip5_data.mslp)\n",
    "cmip5_data_regrid = xr.Dataset()\n",
    "cmip5_data_regrid['mslp'] = cmip5_regrid\n",
    "cmip5_data_regrid.attrs = cmip5_data.attrs\n",
    "cmip5_data_regrid"
   ]
  },
  {
   "cell_type": "markdown",
   "metadata": {},
   "source": [
    "## Experiment I - Comparing Climate Models"
   ]
  },
  {
   "cell_type": "markdown",
   "metadata": {},
   "source": [
    "### Mean Sea Level Pressure"
   ]
  },
  {
   "cell_type": "markdown",
   "metadata": {},
   "source": [
    "#### ERA5 vs NCEP"
   ]
  },
  {
   "cell_type": "code",
   "execution_count": 27,
   "metadata": {},
   "outputs": [],
   "source": [
    "# Experiment class\n",
    "class ClimateEntropy:\n",
    "    def __init__(self, save_path: None, variable: str='mslp', save_name=None, mi: bool=True):\n",
    "        \n",
    "        self.variable = variable\n",
    "        \n",
    "        self.results_path = save_path\n",
    "        self.results_df = pd.DataFrame()\n",
    "        self.save_name = save_name\n",
    "        self.mi = mi\n",
    "    \n",
    "    def run_experiment(self, climate_model1: pd.DataFrame, climate_model2: pd.DataFrame) -> None:\n",
    "        \"\"\"Training loop that goes through each year and calculates the entropy,\n",
    "        total correlation and mutual information between the two models.\"\"\"\n",
    "        time_length = len(climate_model1.groupby('time.year'))\n",
    "        \n",
    "        # Normalize BEFORE the individual calculations\n",
    "        climate_model1[self.variable] = normalize_temporal(climate_model1[self.variable])\n",
    "        \n",
    "        model1_id = climate_model1.attrs['model_id']\n",
    "        model2_id = climate_model2.attrs['model_id']\n",
    "        climate_model2[self.variable] = normalize_temporal(climate_model2[self.variable])\n",
    "        \n",
    "        with tqdm(zip(\n",
    "            climate_model1.groupby('time.year'), \n",
    "            climate_model2.groupby('time.year')\n",
    "        ), total=time_length) as progress_bar:\n",
    "            \n",
    "            for imodel1, imodel2 in progress_bar:\n",
    "                \n",
    "                # Update params in progress bar\n",
    "                \n",
    "                # Transform to dataframe, remove spatial dimensions\n",
    "                X1 = self._get_time_features(imodel1[1][self.variable])\n",
    "                X2 = self._get_time_features(imodel2[1][self.variable])\n",
    "                \n",
    "                # Normalize inputs\n",
    "                min_max_scaler = preprocessing.StandardScaler()\n",
    "                X1 = min_max_scaler.fit_transform(X1.values)\n",
    "                X2 = min_max_scaler.fit_transform(X2.values)\n",
    "                \n",
    "                dims = X1.shape[1]\n",
    "                \n",
    "                # =============================\n",
    "                # Calculate Mutual Information\n",
    "                # =============================\n",
    "                if self.mi == False:\n",
    "                    mi_ = None\n",
    "                    mi_t_ = None\n",
    "                else:\n",
    "                    mi_, mi_t_ = run_rbig_models(X1, X2, measure='mi', verbose=None)\n",
    "                \n",
    "                \n",
    "                # Update params in progress bar\n",
    "                postfix = dict(\n",
    "                    \n",
    "                )\n",
    "\n",
    "                # ========================================\n",
    "                # Calculate Entropy and Total Correlation\n",
    "                # ========================================\n",
    "                \n",
    "                # Model I\n",
    "                tc1_, h1_, h_t1_ = run_rbig_models(X1, measure='t', verbose=None)\n",
    "                \n",
    "                self._update_results(\n",
    "                    model=model1_id,\n",
    "                    year=imodel1[0],\n",
    "                    h_time=h_t1_,\n",
    "                    tc=tc1_,\n",
    "                    h=h1_,\n",
    "                    mi=mi_,\n",
    "                    mi_time=mi_t_,\n",
    "                    dims=dims,\n",
    "                    \n",
    "                )\n",
    "                \n",
    "                \n",
    "                # Model II\n",
    "                tc2_, h2_, h_t2_ = run_rbig_models(X2, measure='t', verbose=None)\n",
    "                self._update_results(\n",
    "                    model=model2_id,\n",
    "                    year=imodel2[0],\n",
    "                    h_time=h_t2_,\n",
    "                    tc=tc2_,\n",
    "                    h=h2_,\n",
    "                    mi=mi_,\n",
    "                    mi_time=mi_t_,\n",
    "                    dims=dims,\n",
    "                    \n",
    "                )\n",
    "                \n",
    "                # Update params in progress bar\n",
    "                postfix = dict(\n",
    "                    year=imodel1[0],\n",
    "                    mi=f\"{mi_:.3f}\" if self.mi is True else None,\n",
    "                    h1=f\"{h1_:.3f}\",\n",
    "                    tc1=f\"{tc1_:.3f}\",\n",
    "                    h2=f\"{h2_:.3f}\",\n",
    "                    tc2=f\"{tc2_:.3f}\",\n",
    "                )\n",
    "                \n",
    "\n",
    "                \n",
    "                progress_bar.set_postfix(postfix)\n",
    "            \n",
    "        \n",
    "        return None\n",
    "    \n",
    "    def _get_time_features(self, data_df: pd.DataFrame)-> pd.DataFrame:\n",
    "        \"\"\"This function collapses the spatial dimensions as pivots. This allows\n",
    "        us to only consider time as the input feature.\"\"\"\n",
    "        return data_df.to_dataframe().unstack(level=0).reset_index().drop(columns=['lat', 'lon']).dropna()\n",
    "    \n",
    "    def _update_results(self, model, year, tc, h, h_time, mi, mi_time, dims):\n",
    "        \"\"\"appends new values to the results dataframe.\"\"\"\n",
    "        self.results_df = self.results_df.append({\n",
    "            'model': model,\n",
    "            'year': year,\n",
    "            'tc': tc,\n",
    "            'h': h,\n",
    "            'h_time': h_time,\n",
    "            'mi': mi,\n",
    "            'mi_time': mi_time,\n",
    "            'dims': dims,\n",
    "        }, ignore_index=True\n",
    "        )\n",
    "        \n",
    "        if self.results_path is not None:\n",
    "            self._save_results()\n",
    "        return self\n",
    "    \n",
    "    def _save_results(self):\n",
    "        \"\"\"Saves the dataframe to the assigned results path.\"\"\"\n",
    "        self.results_df.to_csv(f\"{self.results_path}{self.variable}_{self.save_name}.csv\")\n",
    "        return None"
   ]
  },
  {
   "cell_type": "code",
   "execution_count": null,
   "metadata": {},
   "outputs": [
    {
     "name": "stderr",
     "output_type": "stream",
     "text": [
      "  7%|▋         | 3/41 [08:16<1:45:38, 166.81s/it, year=1981, mi=4.479, h1=-27.174, tc1=34.793, h2=-26.748, tc2=35.677]"
     ]
    }
   ],
   "source": [
    "# Initialize experiment\n",
    "short_decade_exp = ClimateEntropy(save_path=f\"{results_path}\", variable='mslp')\n",
    "\n",
    "# run experiment (shorter decade)\n",
    "short_decade_exp.run_experiment(era5_data, ncep_data)"
   ]
  },
  {
   "cell_type": "code",
   "execution_count": null,
   "metadata": {},
   "outputs": [],
   "source": [
    "# extract results\n",
    "results_df = short_decade_exp.results_df"
   ]
  },
  {
   "cell_type": "markdown",
   "metadata": {},
   "source": [
    "#### ERA5 vs CMIP5"
   ]
  },
  {
   "cell_type": "code",
   "execution_count": null,
   "metadata": {},
   "outputs": [],
   "source": [
    "2006-01-16, 2025-12-16, 1979-01-01, 2019-07-01"
   ]
  },
  {
   "cell_type": "code",
   "execution_count": 28,
   "metadata": {},
   "outputs": [
    {
     "name": "stderr",
     "output_type": "stream",
     "text": [
      "100%|██████████| 14/14 [35:08<00:00, 150.61s/it, year=2019, mi=3.290, h1=-1.509, tc1=9.747, h2=-0.807, tc2=8.142]  \n"
     ]
    }
   ],
   "source": [
    "# Initialize experiment\n",
    "short_decade_exp = ClimateEntropy(\n",
    "    save_path=f\"{results_path}\", variable='mslp', save_name='era_cmip',\n",
    "    mi=True\n",
    ")\n",
    "\n",
    "# run experiment (shorter decade)\n",
    "short_decade_exp.run_experiment(\n",
    "    era5_data_regrid.sel(time=slice('2006-01-16', '2019-07-01')), \n",
    "    cmip5_data_regrid.sel(time=slice('2006-01-16', '2019-07-01'))\n",
    ")"
   ]
  },
  {
   "cell_type": "markdown",
   "metadata": {},
   "source": [
    "#### NCEP vs GISS"
   ]
  },
  {
   "cell_type": "code",
   "execution_count": null,
   "metadata": {},
   "outputs": [],
   "source": [
    "# Initialize experiment\n",
    "short_decade_exp = ClimateEntropy(\n",
    "    save_path=f\"{results_path}\", variable='mslp', save_name='ncep_cmip',\n",
    "    mi=True\n",
    ")\n",
    "\n",
    "# run experiment (shorter decade)\n",
    "short_decade_exp.run_experiment(\n",
    "    ncep_data.sel(time=slice('2006-01-16', '2019-07-01')), \n",
    "    cmip5_data_regrid.sel(time=slice('2006-01-16', '2019-07-01'))\n",
    ")"
   ]
  },
  {
   "cell_type": "code",
   "execution_count": null,
   "metadata": {},
   "outputs": [],
   "source": []
  }
 ],
 "metadata": {
  "kernelspec": {
   "display_name": "Python [conda env:.conda-2019_rbig_ad]",
   "language": "python",
   "name": "conda-env-.conda-2019_rbig_ad-py"
  },
  "language_info": {
   "codemirror_mode": {
    "name": "ipython",
    "version": 3
   },
   "file_extension": ".py",
   "mimetype": "text/x-python",
   "name": "python",
   "nbconvert_exporter": "python",
   "pygments_lexer": "ipython3",
   "version": "3.6.9"
  }
 },
 "nbformat": 4,
 "nbformat_minor": 4
}
