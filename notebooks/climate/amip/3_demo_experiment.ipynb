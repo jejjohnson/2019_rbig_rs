{
 "cells": [
  {
   "cell_type": "markdown",
   "metadata": {},
   "source": [
    "# Comparing Two Climate Models\n",
    "\n",
    "In this notebook, I will be comparing two climate reanalysis models:\n",
    "\n",
    "* NCEP-DOE Reanalysis 2: Surface\n",
    "* ERA5\n",
    "\n",
    "I will be looking at the following variables:\n",
    "\n",
    "* Surface Pressure\n",
    "* Mean Sea Level Pressure\n",
    "* Total Column Water\n",
    "\n",
    "The idea is simple: these two models should have very similar properties. I will be trying to user RBIG in order to assess how similar these models are. I'll be looking at the following IT measures\n",
    "\n",
    "* Entropy\n",
    "* Total Correlation\n",
    "* Mutual Information\n",
    "\n",
    "If these climate models are that similar, then they should exhibit similar IT measures."
   ]
  },
  {
   "cell_type": "markdown",
   "metadata": {},
   "source": [
    "## Data - Climate Models"
   ]
  },
  {
   "cell_type": "code",
   "execution_count": 190,
   "metadata": {},
   "outputs": [
    {
     "name": "stdout",
     "output_type": "stream",
     "text": [
      "The autoreload extension is already loaded. To reload it, use:\n",
      "  %reload_ext autoreload\n"
     ]
    }
   ],
   "source": [
    "import os, sys\n",
    "cwd = os.getcwd()\n",
    "source_path = f\"{cwd}/../../../\"\n",
    "sys.path.insert(0, f'{source_path}')\n",
    "\n",
    "import numpy as np\n",
    "\n",
    "# Data Loaders\n",
    "from src.data.climate.amip import DataDownloader\n",
    "from src.data.climate.amip import DataLoader\n",
    "from src.data.climate.era5 import get_era5_data\n",
    "from src.data.climate.ncep import get_ncep_data\n",
    "from src.features.climate.build_features import (\n",
    "    get_time_overlap, check_time_coords, regrid_2_lower_res, get_spatial_cubes, normalize_data)\n",
    "\n",
    "\n",
    "# Stat Tools\n",
    "from src.models.train_models import run_rbig_models\n",
    "from scipy import stats\n",
    "\n",
    "import pandas as pd\n",
    "import xarray as xr\n",
    "from tqdm import tqdm\n",
    "from sklearn import preprocessing\n",
    "\n",
    "import seaborn as sns\n",
    "import matplotlib.pyplot as plt\n",
    "plt.style.use('ggplot')\n",
    "%matplotlib inline\n",
    "\n",
    "%load_ext autoreload\n",
    "%autoreload 2"
   ]
  },
  {
   "cell_type": "code",
   "execution_count": 73,
   "metadata": {},
   "outputs": [],
   "source": [
    "amip_data_path = f\"/home/emmanuel/projects/2020_rbig_rs/data/climate/raw/amip/\"\n",
    "era5_path = f\"/home/emmanuel/projects/2020_rbig_rs/data/climate/raw/era5/\"\n",
    "ncep_path = f\"/home/emmanuel/projects/2020_rbig_rs/data/climate/raw/ncep/\"\n",
    "results_path = f\"/home/emmanuel/projects/2020_rbig_rs/data/climate/results/\"\n",
    "fig_path = f\"/home/emmanuel/projects/2020_rbig_rs/reports/figures/climate/\""
   ]
  },
  {
   "cell_type": "markdown",
   "metadata": {},
   "source": [
    "## Demo Experiment"
   ]
  },
  {
   "cell_type": "markdown",
   "metadata": {},
   "source": [
    "### Experimental Paams"
   ]
  },
  {
   "cell_type": "code",
   "execution_count": 208,
   "metadata": {},
   "outputs": [],
   "source": [
    "class DataArgs:\n",
    "    data_path = \"/home/emmanuel/projects/2020_rbig_rs/data/climate/raw/amip/\"\n",
    "    results_path = \"/home/emmanuel/projects/2020_rbig_rs/data/climate/results/amip\"\n",
    "\n",
    "class CMIPArgs:\n",
    "\n",
    "        \n",
    "    # Fixed Params\n",
    "    spatial_windows = [\n",
    "        1, 2,                # Spatial Window for Density Cubes\n",
    "        3,4,5,6,7,8,9,10\n",
    "    ]\n",
    "\n",
    "    # Free Params\n",
    "    variables = [\n",
    "        'psl'               # Mean Surface Pressure\n",
    "    ]\n",
    "    cmip_models = [\n",
    "        \"inmcm4\"\n",
    "    ]\n",
    "    \n",
    "    base_models = [\n",
    "        'ncep',\n",
    "    ]\n",
    "        "
   ]
  },
  {
   "cell_type": "code",
   "execution_count": 177,
   "metadata": {},
   "outputs": [],
   "source": [
    "def run_exp():\n",
    "    \n",
    "    for ibase in CMIPArgs.base_models:\n",
    "        for ivariable in CMIPArgs.variables:\n",
    "            for icmip in CMIPArgs.cmip_models:\n",
    "                print(ibase)\n",
    "                print(ivariable)\n",
    "                print(icmip)"
   ]
  },
  {
   "cell_type": "code",
   "execution_count": 178,
   "metadata": {},
   "outputs": [
    {
     "name": "stdout",
     "output_type": "stream",
     "text": [
      "ncep\n",
      "psl\n",
      "inmcm4\n"
     ]
    }
   ],
   "source": [
    "run_exp()"
   ]
  },
  {
   "cell_type": "markdown",
   "metadata": {},
   "source": [
    "### Part I - Grab Data"
   ]
  },
  {
   "cell_type": "code",
   "execution_count": 179,
   "metadata": {},
   "outputs": [],
   "source": [
    "from typing import Type, Union\n",
    "\n",
    "xr_types = Union[xr.Dataset, xr.DataArray]\n",
    "\n",
    "def get_base_model(base_model: str, variable: str)-> xr_types:\n",
    "    \n",
    "    if base_model == 'era5':\n",
    "        ds = get_era5_data()[variable]\n",
    "    elif base_model == 'ncep':\n",
    "        ds = get_ncep_data()[variable]\n",
    "    else:\n",
    "        raise ValueError(\"Unrecognized base model:\", base_model)\n",
    "    ds.attrs['model_id'] = base_model\n",
    "    return ds\n",
    "\n",
    "\n",
    "def get_cmip5_model(cmip_model: str, variable: str)-> xr_types:\n",
    "    \n",
    "    loader = DataLoader()\n",
    "    \n",
    "    ds = loader.load_amip_data(cmip_model)[variable]\n",
    "    ds.attrs['model_id'] = cmip_model\n",
    "    return ds"
   ]
  },
  {
   "cell_type": "code",
   "execution_count": 180,
   "metadata": {},
   "outputs": [
    {
     "data": {
      "text/plain": [
       "<xarray.DataArray 'psl' (time: 489, lat: 73, lon: 144)>\n",
       "dask.array<open_dataset-0ace0936f02ce97f3d79321b6d5f6a55mslp, shape=(489, 73, 144), dtype=float32, chunksize=(489, 73, 144), chunktype=numpy.ndarray>\n",
       "Coordinates:\n",
       "  * lat      (lat) float32 90.0 87.5 85.0 82.5 80.0 ... -82.5 -85.0 -87.5 -90.0\n",
       "  * lon      (lon) float32 0.0 2.5 5.0 7.5 10.0 ... 350.0 352.5 355.0 357.5\n",
       "  * time     (time) datetime64[ns] 1979-01-01 1979-02-01 ... 2019-09-01\n",
       "Attributes:\n",
       "    long_name:             Monthly Mean Sea Level Pressure\n",
       "    valid_range:           [-32766  15234]\n",
       "    unpacked_valid_range:  [ 77000. 125000.]\n",
       "    actual_range:          [ 95644. 105703.]\n",
       "    units:                 Pascals\n",
       "    precision:             0\n",
       "    GRIB_id:               2\n",
       "    GRIB_name:             PRMSL\n",
       "    var_desc:              Mean Sea Level Pressure\n",
       "    dataset:               NCEP/DOE AMIP-II Reanalysis (Reanalysis-2) Monthly...\n",
       "    level_desc:            Sea Level\n",
       "    statistic:             Individual Obs\n",
       "    parent_stat:           Other\n",
       "    standard_name:         pressure\n",
       "    cell_methods:          time: mean (monthly from 6-hourly values)\n",
       "    model_id:              ncep"
      ]
     },
     "execution_count": 180,
     "metadata": {},
     "output_type": "execute_result"
    }
   ],
   "source": [
    "base_dat = get_base_model(CMIPArgs.base_models[0], CMIPArgs.variables[0])\n",
    "base_dat"
   ]
  },
  {
   "cell_type": "code",
   "execution_count": 181,
   "metadata": {},
   "outputs": [
    {
     "data": {
      "text/plain": [
       "<xarray.DataArray 'psl' (time: 360, lat: 120, lon: 180)>\n",
       "dask.array<open_dataset-0a95b28dbc539d100c816bea9e2db9e7psl, shape=(360, 120, 180), dtype=float32, chunksize=(360, 120, 180), chunktype=numpy.ndarray>\n",
       "Coordinates:\n",
       "  * time     (time) object 1979-01-16 12:00:00 ... 2008-12-16 12:00:00\n",
       "  * lat      (lat) float64 -89.25 -87.75 -86.25 -84.75 ... 86.25 87.75 89.25\n",
       "  * lon      (lon) float64 0.0 2.0 4.0 6.0 8.0 ... 350.0 352.0 354.0 356.0 358.0\n",
       "Attributes:\n",
       "    standard_name:     air_pressure_at_sea_level\n",
       "    long_name:         Sea Level Pressure\n",
       "    comment:           not, in general, the same as surface pressure\n",
       "    units:             Pa\n",
       "    original_name:     psl\n",
       "    cell_methods:      time: mean (interval: 1 month)\n",
       "    history:           2011-02-07T11:53:19Z altered by CMOR: Reordered dimens...\n",
       "    associated_files:  baseURL: http://cmip-pcmdi.llnl.gov/CMIP5/dataLocation...\n",
       "    model_id:          inmcm4"
      ]
     },
     "execution_count": 181,
     "metadata": {},
     "output_type": "execute_result"
    }
   ],
   "source": [
    "cmip_dat = get_cmip5_model(CMIPArgs.cmip_models[0], CMIPArgs.variables[0])\n",
    "cmip_dat"
   ]
  },
  {
   "cell_type": "code",
   "execution_count": 182,
   "metadata": {},
   "outputs": [],
   "source": [
    "def run_exp():\n",
    "    \n",
    "    for ibase in CMIPArgs.base_models:\n",
    "        for ivariable in CMIPArgs.variables:\n",
    "            for icmip in CMIPArgs.cmip_models:\n",
    "                print(ibase)\n",
    "                print(ivariable)\n",
    "                print(icmip)\n",
    "                \n",
    "                "
   ]
  },
  {
   "cell_type": "markdown",
   "metadata": {},
   "source": [
    "### Part II - Regrid Data"
   ]
  },
  {
   "cell_type": "code",
   "execution_count": 183,
   "metadata": {},
   "outputs": [
    {
     "name": "stdout",
     "output_type": "stream",
     "text": [
      "Create weight file: nearest_s2d_120x180_73x144.nc\n",
      "Remove file nearest_s2d_120x180_73x144.nc\n"
     ]
    },
    {
     "data": {
      "text/plain": [
       "<xarray.DataArray 'psl' (time: 489, lat: 73, lon: 144)>\n",
       "dask.array<open_dataset-0ace0936f02ce97f3d79321b6d5f6a55mslp, shape=(489, 73, 144), dtype=float32, chunksize=(489, 73, 144), chunktype=numpy.ndarray>\n",
       "Coordinates:\n",
       "  * lat      (lat) float32 90.0 87.5 85.0 82.5 80.0 ... -82.5 -85.0 -87.5 -90.0\n",
       "  * lon      (lon) float32 0.0 2.5 5.0 7.5 10.0 ... 350.0 352.5 355.0 357.5\n",
       "  * time     (time) datetime64[ns] 1979-01-01 1979-02-01 ... 2019-09-01\n",
       "Attributes:\n",
       "    long_name:             Monthly Mean Sea Level Pressure\n",
       "    valid_range:           [-32766  15234]\n",
       "    unpacked_valid_range:  [ 77000. 125000.]\n",
       "    actual_range:          [ 95644. 105703.]\n",
       "    units:                 Pascals\n",
       "    precision:             0\n",
       "    GRIB_id:               2\n",
       "    GRIB_name:             PRMSL\n",
       "    var_desc:              Mean Sea Level Pressure\n",
       "    dataset:               NCEP/DOE AMIP-II Reanalysis (Reanalysis-2) Monthly...\n",
       "    level_desc:            Sea Level\n",
       "    statistic:             Individual Obs\n",
       "    parent_stat:           Other\n",
       "    standard_name:         pressure\n",
       "    cell_methods:          time: mean (monthly from 6-hourly values)\n",
       "    model_id:              ncep"
      ]
     },
     "execution_count": 183,
     "metadata": {},
     "output_type": "execute_result"
    }
   ],
   "source": [
    "base_dat, cmip_dat = regrid_2_lower_res(base_dat, cmip_dat)\n",
    "\n",
    "assert(base_dat.shape[1] == cmip_dat.shape[1])\n",
    "assert(base_dat.shape[2] == cmip_dat.shape[2])\n",
    "base_dat"
   ]
  },
  {
   "cell_type": "markdown",
   "metadata": {},
   "source": [
    "### Part III - Find Overlapping Times"
   ]
  },
  {
   "cell_type": "code",
   "execution_count": 184,
   "metadata": {},
   "outputs": [
    {
     "data": {
      "text/plain": [
       "((489, 73, 144), (360, 73, 144))"
      ]
     },
     "execution_count": 184,
     "metadata": {},
     "output_type": "execute_result"
    }
   ],
   "source": [
    "base_dat.shape, cmip_dat.shape"
   ]
  },
  {
   "cell_type": "code",
   "execution_count": 185,
   "metadata": {},
   "outputs": [],
   "source": [
    "base_dat, cmip_dat = get_time_overlap(base_dat, cmip_dat)"
   ]
  },
  {
   "cell_type": "markdown",
   "metadata": {},
   "source": [
    "### Part IV - Groupby time stamp"
   ]
  },
  {
   "cell_type": "code",
   "execution_count": 186,
   "metadata": {},
   "outputs": [
    {
     "name": "stderr",
     "output_type": "stream",
     "text": [
      "\n",
      "  0%|          | 0/359 [00:00<?, ?it/s]\u001b[A"
     ]
    },
    {
     "name": "stdout",
     "output_type": "stream",
     "text": [
      "<xarray.DataArray 'psl' (lat: 73, lon: 144)>\n",
      "dask.array<getitem, shape=(73, 144), dtype=float32, chunksize=(73, 144), chunktype=numpy.ndarray>\n",
      "Coordinates:\n",
      "  * lat      (lat) float32 90.0 87.5 85.0 82.5 80.0 ... -82.5 -85.0 -87.5 -90.0\n",
      "  * lon      (lon) float32 0.0 2.5 5.0 7.5 10.0 ... 350.0 352.5 355.0 357.5\n",
      "    time     datetime64[ns] 1979-02-01\n",
      "Attributes:\n",
      "    long_name:             Monthly Mean Sea Level Pressure\n",
      "    valid_range:           [-32766  15234]\n",
      "    unpacked_valid_range:  [ 77000. 125000.]\n",
      "    actual_range:          [ 95644. 105703.]\n",
      "    units:                 Pascals\n",
      "    precision:             0\n",
      "    GRIB_id:               2\n",
      "    GRIB_name:             PRMSL\n",
      "    var_desc:              Mean Sea Level Pressure\n",
      "    dataset:               NCEP/DOE AMIP-II Reanalysis (Reanalysis-2) Monthly...\n",
      "    level_desc:            Sea Level\n",
      "    statistic:             Individual Obs\n",
      "    parent_stat:           Other\n",
      "    standard_name:         pressure\n",
      "    cell_methods:          time: mean (monthly from 6-hourly values)\n",
      "    model_id:              ncep\n",
      "<xarray.DataArray 'psl' (lat: 73, lon: 144)>\n",
      "dask.array<getitem, shape=(73, 144), dtype=float64, chunksize=(73, 144), chunktype=numpy.ndarray>\n",
      "Coordinates:\n",
      "    time     datetime64[ns] 1979-01-16T12:00:00\n",
      "  * lon      (lon) float32 0.0 2.5 5.0 7.5 10.0 ... 350.0 352.5 355.0 357.5\n",
      "  * lat      (lat) float32 90.0 87.5 85.0 82.5 80.0 ... -82.5 -85.0 -87.5 -90.0\n",
      "Attributes:\n",
      "    regrid_method:  nearest_s2d\n",
      "    model_id:       inmcm4\n"
     ]
    },
    {
     "name": "stderr",
     "output_type": "stream",
     "text": [
      "\n"
     ]
    }
   ],
   "source": [
    "time_stamps = min(len(base_dat.time), len(cmip_dat.time))\n",
    "\n",
    "with tqdm(range(time_stamps)) as progress_bar:\n",
    "    for itime in progress_bar:\n",
    "        ibase_dat = base_dat.isel(time=itime, drop=False)\n",
    "        icmip_dat = cmip_dat.isel(time=itime)\n",
    "        print(ibase_dat)\n",
    "        print(icmip_dat)\n",
    "        break"
   ]
  },
  {
   "cell_type": "markdown",
   "metadata": {},
   "source": [
    "### Part IV - Get Density Cubes"
   ]
  },
  {
   "cell_type": "code",
   "execution_count": 209,
   "metadata": {},
   "outputs": [],
   "source": [
    "base_df = get_spatial_cubes(ibase_dat.expand_dims({\"time\": 1}), CMIPArgs.spatial_windows[3])\n",
    "cmip_df = get_spatial_cubes(icmip_dat.expand_dims({\"time\": 1}), CMIPArgs.spatial_windows[3])"
   ]
  },
  {
   "cell_type": "markdown",
   "metadata": {},
   "source": [
    "### Part V - Normalize"
   ]
  },
  {
   "cell_type": "code",
   "execution_count": 214,
   "metadata": {},
   "outputs": [
    {
     "data": {
      "text/plain": [
       "(9870, 16)"
      ]
     },
     "execution_count": 214,
     "metadata": {},
     "output_type": "execute_result"
    }
   ],
   "source": [
    "base_norm = normalize_data(base_df)\n",
    "cmip_norm = normalize_data(cmip_df)"
   ]
  },
  {
   "cell_type": "markdown",
   "metadata": {},
   "source": [
    "### Part VI - RBIG Algorithm"
   ]
  },
  {
   "cell_type": "markdown",
   "metadata": {},
   "source": [
    "#### Entropy, Total Correlation"
   ]
  },
  {
   "cell_type": "code",
   "execution_count": 211,
   "metadata": {},
   "outputs": [],
   "source": [
    "base_tc, base_h, _ = run_rbig_models(base_norm, measure='t', verbose=None)\n",
    "cmip_tc, cmip_h, _ = run_rbig_models(cmip_norm, measure='t', verbose=None)"
   ]
  },
  {
   "cell_type": "code",
   "execution_count": 215,
   "metadata": {},
   "outputs": [
    {
     "data": {
      "text/plain": [
       "(3.15210921530442, 2.898822929574796)"
      ]
     },
     "execution_count": 215,
     "metadata": {},
     "output_type": "execute_result"
    }
   ],
   "source": [
    "base_tc/16, cmip_tc/16"
   ]
  },
  {
   "cell_type": "code",
   "execution_count": 216,
   "metadata": {},
   "outputs": [
    {
     "data": {
      "text/plain": [
       "(-1.9835297431860046, -1.6207488092653572)"
      ]
     },
     "execution_count": 216,
     "metadata": {},
     "output_type": "execute_result"
    }
   ],
   "source": [
    "base_h/16, cmip_h/16"
   ]
  },
  {
   "cell_type": "markdown",
   "metadata": {},
   "source": [
    "#### Mutual Information"
   ]
  },
  {
   "cell_type": "code",
   "execution_count": 217,
   "metadata": {},
   "outputs": [],
   "source": [
    "mi, t_ = run_rbig_models(base_norm, cmip_norm, measure='mi', verbose=None)"
   ]
  },
  {
   "cell_type": "code",
   "execution_count": 219,
   "metadata": {},
   "outputs": [
    {
     "data": {
      "text/plain": [
       "1.7665437827063366"
      ]
     },
     "execution_count": 219,
     "metadata": {},
     "output_type": "execute_result"
    }
   ],
   "source": [
    "mi"
   ]
  },
  {
   "cell_type": "code",
   "execution_count": null,
   "metadata": {},
   "outputs": [],
   "source": []
  },
  {
   "cell_type": "code",
   "execution_count": null,
   "metadata": {},
   "outputs": [],
   "source": []
  },
  {
   "cell_type": "markdown",
   "metadata": {},
   "source": [
    "## Experiment I - Comparing Climate Models"
   ]
  },
  {
   "cell_type": "markdown",
   "metadata": {},
   "source": [
    "### Mean Sea Level Pressure"
   ]
  },
  {
   "cell_type": "markdown",
   "metadata": {},
   "source": [
    "#### ERA5 vs NCEP"
   ]
  },
  {
   "cell_type": "code",
   "execution_count": 12,
   "metadata": {},
   "outputs": [],
   "source": [
    "# Experiment class\n",
    "class ClimateEntropy:\n",
    "    def __init__(self, save_path: None, variable: str='mslp', save_name=None, mi: bool=True):\n",
    "        \n",
    "        self.variable = variable\n",
    "        \n",
    "        self.results_path = save_path\n",
    "        self.results_df = pd.DataFrame()\n",
    "        self.save_name = save_name\n",
    "        self.mi = mi\n",
    "    \n",
    "    def run_experiment(self, climate_model1: pd.DataFrame, climate_model2: pd.DataFrame) -> None:\n",
    "        \"\"\"Training loop that goes through each year and calculates the entropy,\n",
    "        total correlation and mutual information between the two models.\"\"\"\n",
    "        time_length = len(climate_model1.groupby('time.year'))\n",
    "        \n",
    "        # Normalize BEFORE the individual calculations\n",
    "        climate_model1[self.variable] = normalize_temporal(climate_model1[self.variable])\n",
    "        \n",
    "        model1_id = climate_model1.attrs['model_id']\n",
    "        model2_id = climate_model2.attrs['model_id']\n",
    "        climate_model2[self.variable] = normalize_temporal(climate_model2[self.variable])\n",
    "        \n",
    "        with tqdm(zip(\n",
    "            climate_model1.groupby('time.year'), \n",
    "            climate_model2.groupby('time.year')\n",
    "        ), total=time_length) as progress_bar:\n",
    "            \n",
    "            for imodel1, imodel2 in progress_bar:\n",
    "                \n",
    "                # Update params in progress bar\n",
    "                \n",
    "                # Transform to dataframe, remove spatial dimensions\n",
    "                X1 = self._get_time_features(imodel1[1][self.variable])\n",
    "                X2 = self._get_time_features(imodel2[1][self.variable])\n",
    "                \n",
    "                # Normalize inputs\n",
    "                min_max_scaler = preprocessing.StandardScaler()\n",
    "                X1 = min_max_scaler.fit_transform(X1.values)\n",
    "                X2 = min_max_scaler.fit_transform(X2.values)\n",
    "                \n",
    "                dims = X1.shape[1]\n",
    "                \n",
    "                # =============================\n",
    "                # Calculate Mutual Information\n",
    "                # =============================\n",
    "                if self.mi == False:\n",
    "                    mi_ = None\n",
    "                    mi_t_ = None\n",
    "                else:\n",
    "                    mi_, mi_t_ = run_rbig_models(X1, X2, measure='mi', verbose=None)\n",
    "                \n",
    "                \n",
    "                # Update params in progress bar\n",
    "                postfix = dict(\n",
    "                    \n",
    "                )\n",
    "\n",
    "                # ========================================\n",
    "                # Calculate Entropy and Total Correlation\n",
    "                # ========================================\n",
    "                \n",
    "                # Model I\n",
    "                tc1_, h1_, h_t1_ = run_rbig_models(X1, measure='t', verbose=None)\n",
    "                \n",
    "                self._update_results(\n",
    "                    model=model1_id,\n",
    "                    year=imodel1[0],\n",
    "                    h_time=h_t1_,\n",
    "                    tc=tc1_,\n",
    "                    h=h1_,\n",
    "                    mi=mi_,\n",
    "                    mi_time=mi_t_,\n",
    "                    dims=dims,\n",
    "                    \n",
    "                )\n",
    "                \n",
    "                \n",
    "                # Model II\n",
    "                tc2_, h2_, h_t2_ = run_rbig_models(X2, measure='t', verbose=None)\n",
    "                self._update_results(\n",
    "                    model=model2_id,\n",
    "                    year=imodel2[0],\n",
    "                    h_time=h_t2_,\n",
    "                    tc=tc2_,\n",
    "                    h=h2_,\n",
    "                    mi=mi_,\n",
    "                    mi_time=mi_t_,\n",
    "                    dims=dims,\n",
    "                    \n",
    "                )\n",
    "                \n",
    "                # Update params in progress bar\n",
    "                postfix = dict(\n",
    "                    year=imodel1[0],\n",
    "                    mi=f\"{mi_:.3f}\" if self.mi is True else None,\n",
    "                    h1=f\"{h1_:.3f}\",\n",
    "                    tc1=f\"{tc1_:.3f}\",\n",
    "                    h2=f\"{h2_:.3f}\",\n",
    "                    tc2=f\"{tc2_:.3f}\",\n",
    "                )\n",
    "                \n",
    "\n",
    "                \n",
    "                progress_bar.set_postfix(postfix)\n",
    "            \n",
    "        \n",
    "        return None\n",
    "    \n",
    "    def _get_time_features(self, data_df: pd.DataFrame)-> pd.DataFrame:\n",
    "        \"\"\"This function collapses the spatial dimensions as pivots. This allows\n",
    "        us to only consider time as the input feature.\"\"\"\n",
    "        return data_df.to_dataframe().unstack(level=0).reset_index().drop(columns=['lat', 'lon']).dropna()\n",
    "    \n",
    "    def _update_results(self, model, year, tc, h, h_time, mi, mi_time, dims):\n",
    "        \"\"\"appends new values to the results dataframe.\"\"\"\n",
    "        self.results_df = self.results_df.append({\n",
    "            'model': model,\n",
    "            'year': year,\n",
    "            'tc': tc,\n",
    "            'h': h,\n",
    "            'h_time': h_time,\n",
    "            'mi': mi,\n",
    "            'mi_time': mi_time,\n",
    "            'dims': dims,\n",
    "        }, ignore_index=True\n",
    "        )\n",
    "        \n",
    "        if self.results_path is not None:\n",
    "            self._save_results()\n",
    "        return self\n",
    "    \n",
    "    def _save_results(self):\n",
    "        \"\"\"Saves the dataframe to the assigned results path.\"\"\"\n",
    "        self.results_df.to_csv(f\"{self.results_path}{self.variable}_{self.save_name}.csv\")\n",
    "        return None"
   ]
  },
  {
   "cell_type": "code",
   "execution_count": 28,
   "metadata": {},
   "outputs": [
    {
     "name": "stderr",
     "output_type": "stream",
     "text": [
      "100%|██████████| 41/41 [1:43:03<00:00, 150.83s/it, year=2019, mi=4.766, h1=-1.313, tc1=9.551, h2=-3.049, tc2=13.532] \n"
     ]
    }
   ],
   "source": [
    "# Initialize experiment\n",
    "short_decade_exp = ClimateEntropy(\n",
    "    save_path=f\"{results_path}\", \n",
    "    variable='mslp',\n",
    "    save_name='era_ncep'\n",
    ")\n",
    "\n",
    "# run experiment (shorter decade)\n",
    "short_decade_exp.run_experiment(era5_data_regrid, ncep_data)"
   ]
  },
  {
   "cell_type": "code",
   "execution_count": null,
   "metadata": {},
   "outputs": [],
   "source": [
    "# extract results\n",
    "results_df = short_decade_exp.results_df"
   ]
  },
  {
   "cell_type": "markdown",
   "metadata": {},
   "source": [
    "#### ERA5 vs CMIP5"
   ]
  },
  {
   "cell_type": "code",
   "execution_count": null,
   "metadata": {},
   "outputs": [],
   "source": [
    "2006-01-16, 2025-12-16, 1979-01-01, 2019-07-01"
   ]
  },
  {
   "cell_type": "code",
   "execution_count": 28,
   "metadata": {},
   "outputs": [
    {
     "name": "stderr",
     "output_type": "stream",
     "text": [
      "100%|██████████| 14/14 [35:08<00:00, 150.61s/it, year=2019, mi=3.290, h1=-1.509, tc1=9.747, h2=-0.807, tc2=8.142]  \n"
     ]
    }
   ],
   "source": [
    "# Initialize experiment\n",
    "short_decade_exp = ClimateEntropy(\n",
    "    save_path=f\"{results_path}\", variable='mslp', save_name='era_cmip',\n",
    "    mi=True\n",
    ")\n",
    "\n",
    "# run experiment (shorter decade)\n",
    "short_decade_exp.run_experiment(\n",
    "    era5_data_regrid.sel(time=slice('2006-01-16', '2019-07-01')), \n",
    "    cmip5_data_regrid.sel(time=slice('2006-01-16', '2019-07-01'))\n",
    ")"
   ]
  },
  {
   "cell_type": "markdown",
   "metadata": {},
   "source": [
    "#### NCEP vs CMIP5"
   ]
  },
  {
   "cell_type": "code",
   "execution_count": 12,
   "metadata": {},
   "outputs": [
    {
     "name": "stderr",
     "output_type": "stream",
     "text": [
      "100%|██████████| 14/14 [35:04<00:00, 150.30s/it, year=2019, mi=3.552, h1=-1.495, tc1=9.760, h2=-0.807, tc2=8.142]  \n"
     ]
    }
   ],
   "source": [
    "# Initialize experiment\n",
    "short_decade_exp = ClimateEntropy(\n",
    "    save_path=f\"{results_path}\", variable='mslp', save_name='ncep_cmip',\n",
    "    mi=True\n",
    ")\n",
    "\n",
    "# run experiment (shorter decade)\n",
    "short_decade_exp.run_experiment(\n",
    "    ncep_data.sel(time=slice('2006-01-16', '2019-07-01')), \n",
    "    cmip5_data_regrid.sel(time=slice('2006-01-16', '2019-07-01'))\n",
    ")"
   ]
  },
  {
   "cell_type": "code",
   "execution_count": null,
   "metadata": {},
   "outputs": [],
   "source": []
  }
 ],
 "metadata": {
  "kernelspec": {
   "display_name": "Python [conda env:.conda-2019_rbig_ad]",
   "language": "python",
   "name": "conda-env-.conda-2019_rbig_ad-py"
  },
  "language_info": {
   "codemirror_mode": {
    "name": "ipython",
    "version": 3
   },
   "file_extension": ".py",
   "mimetype": "text/x-python",
   "name": "python",
   "nbconvert_exporter": "python",
   "pygments_lexer": "ipython3",
   "version": "3.6.9"
  }
 },
 "nbformat": 4,
 "nbformat_minor": 4
}
