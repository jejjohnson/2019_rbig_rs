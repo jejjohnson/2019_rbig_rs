{
 "cells": [
  {
   "cell_type": "markdown",
   "metadata": {},
   "source": [
    "# Comparing Two Climate Models\n",
    "\n",
    "In this notebook, I will be comparing two climate reanalysis models:\n",
    "\n",
    "* NCEP-DOE Reanalysis 2: Surface\n",
    "* ERA5\n",
    "\n",
    "I will be looking at the following variables:\n",
    "\n",
    "* Surface Pressure\n",
    "* Mean Sea Level Pressure\n",
    "* Total Column Water\n",
    "\n",
    "The idea is simple: these two models should have very similar properties. I will be trying to user RBIG in order to assess how similar these models are. I'll be looking at the following IT measures\n",
    "\n",
    "* Entropy\n",
    "* Total Correlation\n",
    "* Mutual Information\n",
    "\n",
    "If these climate models are that similar, then they should exhibit similar IT measures."
   ]
  },
  {
   "cell_type": "markdown",
   "metadata": {},
   "source": [
    "## Data - Climate Models"
   ]
  },
  {
   "cell_type": "code",
   "execution_count": 2,
   "metadata": {},
   "outputs": [],
   "source": [
    "import os, sys\n",
    "cwd = os.getcwd()\n",
    "source_path = f\"{cwd}/../../../\"\n",
    "sys.path.insert(0, f'{source_path}')\n",
    "\n",
    "import numpy as np\n",
    "\n",
    "\n",
    "# Data Loaders\n",
    "from src.data.climate.amip import DataDownloader\n",
    "from src.data.climate.amip import DataLoader\n",
    "\n",
    "# ESDC tools\n",
    "sys.path.insert(0, f'/home/emmanuel/code/py_esdc')\n",
    "from esdc.standardize import normalize_temporal\n",
    "from esdc.grid import regrid_data\n",
    "\n",
    "import cdsapi\n",
    "from zipfile import ZipFile\n",
    "import pandas as pd\n",
    "import xarray as xr\n",
    "from tqdm import tqdm\n",
    "from sklearn import preprocessing\n",
    "\n",
    "import seaborn as sns\n",
    "import matplotlib.pyplot as plt\n",
    "plt.style.use('ggplot')\n",
    "%matplotlib inline\n",
    "\n",
    "%load_ext autoreload\n",
    "%autoreload 2"
   ]
  },
  {
   "cell_type": "code",
   "execution_count": 3,
   "metadata": {},
   "outputs": [],
   "source": [
    "data_path = f\"/home/emmanuel/projects/2020_rbig_rs/data/climate/raw/amip/\"\n",
    "results_path = f\"/home/emmanuel/projects/2020_rbig_rs/data/climate/results/\"\n",
    "fig_path = f\"/home/emmanuel/projects/2020_rbig_rs/reports/figures/climate/\""
   ]
  },
  {
   "cell_type": "markdown",
   "metadata": {},
   "source": [
    "### Download Datasets"
   ]
  },
  {
   "cell_type": "code",
   "execution_count": 15,
   "metadata": {},
   "outputs": [
    {
     "name": "stderr",
     "output_type": "stream",
     "text": [
      "2019-11-06 16:03:59,814 INFO Sending request to https://cds.climate.copernicus.eu/api/v2/resources/projections-cmip5-monthly-single-levels\n",
      "2019-11-06 16:04:00,498 INFO Request is completed\n",
      "2019-11-06 16:04:00,499 INFO Downloading http://136.156.133.46/cache-compute-0015/cache/data4/70c39ac0-958f-4b70-8ac1-0991f58ba384-psl_Amon_IPSL-CM5B-LR_amip_r1i1p1_197901-200812.nc to /home/emmanuel/projects/2020_rbig_rs/data/climate/raw/amip/ipsl_cm5b_lr/amip_ipsl_cm5b_lr.zip (12.7M)\n",
      "2019-11-06 16:04:01,760 INFO Download rate 10.1M/s\n"
     ]
    },
    {
     "name": "stdout",
     "output_type": "stream",
     "text": [
      "/home/emmanuel/projects/2020_rbig_rs/data/climate/raw/amip/ipsl_cm5b_lr/amip_ipsl_cm5b_lr.zip\n",
      "Already nc...\n",
      "Changing name: \n",
      " /home/emmanuel/projects/2020_rbig_rs/data/climate/raw/amip/ipsl_cm5b_lr/amip_ipsl_cm5b_lr.nc\n"
     ]
    }
   ],
   "source": [
    "downloader = DataDownloader()\n",
    "\n",
    "downloader.download_all()"
   ]
  },
  {
   "cell_type": "markdown",
   "metadata": {},
   "source": [
    "### Load Datasets"
   ]
  },
  {
   "cell_type": "markdown",
   "metadata": {},
   "source": [
    "## loader = DataLoader()\n",
    "\n",
    "dataset = 'ipsl_cm5b_lr'\n",
    "\n",
    "xr_data = loader.load_amip_data(dataset)"
   ]
  },
  {
   "cell_type": "code",
   "execution_count": 6,
   "metadata": {},
   "outputs": [
    {
     "data": {
      "text/plain": [
       "<xarray.Dataset>\n",
       "Dimensions:    (bnds: 2, lat: 96, lon: 96, time: 360)\n",
       "Coordinates:\n",
       "  * time       (time) object 1979-01-16 12:00:00 ... 2008-12-16 12:00:00\n",
       "  * lat        (lat) float64 -90.0 -88.11 -86.21 -84.32 ... 86.21 88.11 90.0\n",
       "  * lon        (lon) float64 0.0 3.75 7.5 11.25 15.0 ... 345.0 348.8 352.5 356.2\n",
       "Dimensions without coordinates: bnds\n",
       "Data variables:\n",
       "    time_bnds  (time, bnds) object dask.array<chunksize=(360, 2), meta=np.ndarray>\n",
       "    lat_bnds   (lat, bnds) float64 dask.array<chunksize=(96, 2), meta=np.ndarray>\n",
       "    lon_bnds   (lon, bnds) float64 dask.array<chunksize=(96, 2), meta=np.ndarray>\n",
       "    psl        (time, lat, lon) float32 dask.array<chunksize=(360, 96, 96), meta=np.ndarray>\n",
       "Attributes:\n",
       "    institution:            IPSL (Institut Pierre Simon Laplace, Paris, France)\n",
       "    institute_id:           IPSL\n",
       "    experiment_id:          amip\n",
       "    source:                 IPSL-CM5B-LR (2011) : atmos : LMDZ5 (LMDZ5_NPv3.1...\n",
       "    model_id:               IPSL-CM5B-LR\n",
       "    forcing:                Nat,Ant,GHG,SA,Oz,LU,SS,Ds,BC,MD,OC,AA\n",
       "    parent_experiment_id:   N/A\n",
       "    parent_experiment_rip:  N/A\n",
       "    branch_time:            0.0\n",
       "    contact:                ipsl-cmip5 _at_ ipsl.jussieu.fr Data manager : Se...\n",
       "    comment:                This atmospheric only simulation include natural ...\n",
       "    references:             Model documentation and further reference availab...\n",
       "    initialization_method:  1\n",
       "    physics_version:        1\n",
       "    tracking_id:            b06de09a-a87a-4f4d-bb64-63ad47eab808\n",
       "    product:                output\n",
       "    experiment:             AMIP\n",
       "    frequency:              mon\n",
       "    creation_date:          2012-06-11T18:49:23Z\n",
       "    history:                2012-06-11T18:49:23Z CMOR rewrote data to comply ...\n",
       "    Conventions:            CF-1.4\n",
       "    project_id:             CMIP5\n",
       "    table_id:               Table Amon (31 January 2011) 53b766a395ac41696af4...\n",
       "    title:                  IPSL-CM5B-LR model output prepared for CMIP5 AMIP\n",
       "    parent_experiment:      N/A\n",
       "    modeling_realm:         atmos\n",
       "    realization:            1\n",
       "    cmor_version:           2.7.1"
      ]
     },
     "execution_count": 6,
     "metadata": {},
     "output_type": "execute_result"
    }
   ],
   "source": [
    "xr_data"
   ]
  },
  {
   "cell_type": "markdown",
   "metadata": {},
   "source": [
    "### Testing"
   ]
  },
  {
   "cell_type": "code",
   "execution_count": 7,
   "metadata": {},
   "outputs": [
    {
     "name": "stdout",
     "output_type": "stream",
     "text": [
      "inmcm4\n",
      "(360, 120, 180)\n",
      "access1_0\n",
      "(360, 145, 192)\n",
      "bcc_csm1_1\n",
      "(360, 64, 128)\n",
      "bcc_csm1_1_m\n",
      "(360, 160, 320)\n",
      "bnu_esm\n",
      "(360, 64, 128)\n",
      "giss_e2_r\n",
      "(1572, 90, 144)\n",
      "cnrm_cm5\n",
      "(360, 128, 256)\n",
      "ipsl_cm5a_lr\n",
      "(372, 96, 96)\n",
      "ipsl_cm5a_mr\n",
      "(720, 143, 144)\n",
      "ipsl_cm5b_lr\n",
      "(360, 96, 96)\n",
      "mpi_esm_lr\n",
      "(360, 96, 192)\n",
      "mpi_esm_mr\n",
      "(360, 96, 192)\n",
      "noresm1_m\n",
      "(360, 96, 144)\n"
     ]
    }
   ],
   "source": [
    "datasets = [\n",
    "    \"inmcm4\",\n",
    "    \"access1_0\",\n",
    "    \"bcc_csm1_1\",\n",
    "    \"bcc_csm1_1_m\",\n",
    "    \"bnu_esm\",\n",
    "    \"giss_e2_r\",\n",
    "    \"cnrm_cm5\",\n",
    "    \"ipsl_cm5a_lr\",\n",
    "    \"ipsl_cm5a_mr\",\n",
    "    \"ipsl_cm5b_lr\",\n",
    "    \"mpi_esm_lr\",\n",
    "    \"mpi_esm_mr\",\n",
    "    \"noresm1_m\",\n",
    "]\n",
    "\n",
    "for idataset in datasets:\n",
    "    print(idataset)\n",
    "    data = loader.load_amip_data(idataset)\n",
    "    print(data.psl.shape)\n",
    "    assert(type(data) is xr.Dataset)"
   ]
  },
  {
   "cell_type": "code",
   "execution_count": null,
   "metadata": {},
   "outputs": [],
   "source": []
  }
 ],
 "metadata": {
  "kernelspec": {
   "display_name": "Python [conda env:.conda-2019_rbig_ad]",
   "language": "python",
   "name": "conda-env-.conda-2019_rbig_ad-py"
  },
  "language_info": {
   "codemirror_mode": {
    "name": "ipython",
    "version": 3
   },
   "file_extension": ".py",
   "mimetype": "text/x-python",
   "name": "python",
   "nbconvert_exporter": "python",
   "pygments_lexer": "ipython3",
   "version": "3.6.9"
  }
 },
 "nbformat": 4,
 "nbformat_minor": 4
}
