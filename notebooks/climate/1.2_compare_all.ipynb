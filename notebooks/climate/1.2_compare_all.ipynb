{
 "cells": [
  {
   "cell_type": "code",
   "execution_count": 1,
   "metadata": {},
   "outputs": [],
   "source": [
    "import os, sys\n",
    "cwd = os.getcwd()\n",
    "source_path = f\"{cwd}/../../\"\n",
    "sys.path.insert(0, f'{source_path}')\n",
    "\n",
    "# Import RBIG Helper\n",
    "from src.models.train_models import run_rbig_models\n",
    "\n",
    "# ESDC tools\n",
    "sys.path.insert(0, f'/home/emmanuel/code/py_esdc')\n",
    "from esdc.preprocessing import normalize_temporal\n",
    "\n",
    "import cdsapi\n",
    "from zipfile import ZipFile\n",
    "import pandas as pd\n",
    "import xarray as xr\n",
    "from tqdm import tqdm\n",
    "from sklearn import preprocessing\n",
    "\n",
    "import seaborn as sns\n",
    "import matplotlib.pyplot as plt\n",
    "plt.style.use('ggplot')\n",
    "%matplotlib inline\n",
    "\n",
    "%load_ext autoreload\n",
    "%autoreload 2"
   ]
  },
  {
   "cell_type": "code",
   "execution_count": 2,
   "metadata": {},
   "outputs": [],
   "source": [
    "data_path = f\"/home/emmanuel/projects/2020_rbig_rs/data/climate/raw/\"\n",
    "results_path = f\"/home/emmanuel/projects/2020_rbig_rs/data/climate/results/\"\n",
    "fig_path = f\"/home/emmanuel/projects/2020_rbig_rs/reports/figures/climate/\""
   ]
  },
  {
   "cell_type": "markdown",
   "metadata": {},
   "source": [
    "### CMIP5"
   ]
  },
  {
   "cell_type": "code",
   "execution_count": 25,
   "metadata": {},
   "outputs": [
    {
     "data": {
      "text/plain": [
       "<xarray.Dataset>\n",
       "Dimensions:    (bnds: 2, lat: 90, lon: 144, time: 240)\n",
       "Coordinates:\n",
       "  * time       (time) object 2006-01-16 12:00:00 ... 2025-12-16 12:00:00\n",
       "  * lat        (lat) float64 -89.0 -87.0 -85.0 -83.0 ... 83.0 85.0 87.0 89.0\n",
       "  * lon        (lon) float64 1.25 3.75 6.25 8.75 ... 351.2 353.8 356.2 358.8\n",
       "Dimensions without coordinates: bnds\n",
       "Data variables:\n",
       "    time_bnds  (time, bnds) object 2006-01-01 00:00:00 ... 2026-01-01 00:00:00\n",
       "    lat_bnds   (lat, bnds) float64 -90.0 -88.0 -88.0 -86.0 ... 88.0 88.0 90.0\n",
       "    lon_bnds   (lon, bnds) float64 0.0 2.5 2.5 5.0 ... 355.0 357.5 357.5 360.0\n",
       "    mslp       (time, lat, lon) float32 99793.75 99793.75 ... 99897.87 99897.87\n",
       "Attributes:\n",
       "    model_id:  cmip5"
      ]
     },
     "execution_count": 25,
     "metadata": {},
     "output_type": "execute_result"
    }
   ],
   "source": [
    "cmip5_data = xr.open_dataset(f\"{data_path}CMIP5.nc\")\n",
    "cmip5_data = cmip5_data.rename({'psl': 'mslp'})\n",
    "\n",
    "# rescale model from 0.25 to 2.5 degrees\n",
    "cmip5_data = cmip5_data.coarsen(lat=1, boundary='pad').mean()\n",
    "cmip5_data.attrs['model_id'] = 'cmip5'\n",
    "cmip5_data"
   ]
  },
  {
   "cell_type": "code",
   "execution_count": 17,
   "metadata": {},
   "outputs": [],
   "source": [
    "# cmip5_data.isel(time=0).mslp.plot()"
   ]
  },
  {
   "cell_type": "code",
   "execution_count": 18,
   "metadata": {},
   "outputs": [
    {
     "data": {
      "text/plain": [
       "<xarray.Dataset>\n",
       "Dimensions:    (bnds: 2, lat: 90, lon: 144, time: 240)\n",
       "Coordinates:\n",
       "  * time       (time) object 2006-01-16 12:00:00 ... 2025-12-16 12:00:00\n",
       "  * lat        (lat) float64 -89.0 -87.0 -85.0 -83.0 ... 83.0 85.0 87.0 89.0\n",
       "  * lon        (lon) float64 1.25 3.75 6.25 8.75 ... 351.2 353.8 356.2 358.8\n",
       "Dimensions without coordinates: bnds\n",
       "Data variables:\n",
       "    time_bnds  (time, bnds) object 2006-01-01 00:00:00 ... 2026-01-01 00:00:00\n",
       "    lat_bnds   (lat, bnds) float64 -90.0 -88.0 -88.0 -86.0 ... 88.0 88.0 90.0\n",
       "    lon_bnds   (lon, bnds) float64 0.0 2.5 2.5 5.0 ... 355.0 357.5 357.5 360.0\n",
       "    mslp       (time, lat, lon) float32 99793.75 99793.75 ... 99897.87 99897.87\n",
       "Attributes:\n",
       "    model_id:  cmip5"
      ]
     },
     "execution_count": 18,
     "metadata": {},
     "output_type": "execute_result"
    }
   ],
   "source": [
    "cmip5_data"
   ]
  },
  {
   "cell_type": "code",
   "execution_count": null,
   "metadata": {},
   "outputs": [],
   "source": []
  }
 ],
 "metadata": {
  "kernelspec": {
   "display_name": "Python [conda env:.conda-2019_rbig_ad]",
   "language": "python",
   "name": "conda-env-.conda-2019_rbig_ad-py"
  },
  "language_info": {
   "codemirror_mode": {
    "name": "ipython",
    "version": 3
   },
   "file_extension": ".py",
   "mimetype": "text/x-python",
   "name": "python",
   "nbconvert_exporter": "python",
   "pygments_lexer": "ipython3",
   "version": "3.6.9"
  }
 },
 "nbformat": 4,
 "nbformat_minor": 4
}
