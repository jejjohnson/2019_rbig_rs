{
 "cells": [
  {
   "cell_type": "markdown",
   "metadata": {},
   "source": [
    "# Spatial-Temporal Experiment"
   ]
  },
  {
   "cell_type": "code",
   "execution_count": 1,
   "metadata": {},
   "outputs": [],
   "source": [
    "import sys, os\n",
    "cwd = os.getcwd()\n",
    "sys.path.insert(0, f'{cwd}/../../')\n",
    "sys.path.insert(0, '/home/emmanuel/code/py_esdc')\n",
    "sys.path.insert(0, '/home/emmanuel/code/gp_model_zoo')\n",
    "\n",
    "# standard python packages\n",
    "import xarray as xr\n",
    "import pandas as pd\n",
    "import numpy as np\n",
    "\n",
    "# \n",
    "from src.models.spatemp.train_models import Metrics\n",
    "\n",
    "# esdc tools\n",
    "from esdc.subset import select_pixel\n",
    "from esdc.shape import ShapeFileExtract, rasterize\n",
    "from esdc.transform import DensityCubes\n",
    "\n",
    "import matplotlib.pyplot as plt\n",
    "import cartopy\n",
    "import cartopy.crs as ccrs\n",
    "plt.style.use(['fivethirtyeight', 'seaborn-poster'])\n",
    "%matplotlib inline\n",
    "\n",
    "%load_ext autoreload\n",
    "%autoreload 2"
   ]
  },
  {
   "cell_type": "markdown",
   "metadata": {},
   "source": [
    "## 1. Get DataCubes"
   ]
  },
  {
   "cell_type": "code",
   "execution_count": 2,
   "metadata": {},
   "outputs": [],
   "source": [
    "filename = '/media/disk/databases/ESDC/esdc-8d-0.25deg-1x720x1440-2.0.0.zarr'\n",
    "\n",
    "datacube = xr.open_zarr(filename)"
   ]
  },
  {
   "cell_type": "code",
   "execution_count": 3,
   "metadata": {},
   "outputs": [
    {
     "data": {
      "text/plain": [
       "<xarray.DataArray 'soil_moisture' (time: 1702, lat: 720, lon: 1440)>\n",
       "dask.array<zarr, shape=(1702, 720, 1440), dtype=float32, chunksize=(1, 720, 1440), chunktype=numpy.ndarray>\n",
       "Coordinates:\n",
       "  * lat      (lat) float32 89.875 89.625 89.375 ... -89.375 -89.625 -89.875\n",
       "  * lon      (lon) float32 -179.875 -179.625 -179.375 ... 179.625 179.875\n",
       "  * time     (time) datetime64[ns] 1980-01-05 1980-01-13 ... 2016-12-30\n",
       "Attributes:\n",
       "    ID:                        78\n",
       "    esa_cci_path:              /neodc/esacci/soil_moisture/data/daily_files/C...\n",
       "    long_name:                 Soil Moisture\n",
       "    orig_attrs:                {'comment': 'Soil moisture based on the SOilmo...\n",
       "    orig_version:              v04.2\n",
       "    project_name:              SoilMoisture CCI\n",
       "    time_coverage_end:         2014-01-29\n",
       "    time_coverage_resolution:  P8D\n",
       "    time_coverage_start:       1980-01-05\n",
       "    url:                       http://www.esa-soilmoisture-cci.org"
      ]
     },
     "execution_count": 3,
     "metadata": {},
     "output_type": "execute_result"
    }
   ],
   "source": [
    "lst_cube = datacube.soil_moisture\n",
    "lst_cube"
   ]
  },
  {
   "cell_type": "markdown",
   "metadata": {},
   "source": [
    "## 2. Select Region"
   ]
  },
  {
   "cell_type": "code",
   "execution_count": 4,
   "metadata": {},
   "outputs": [],
   "source": [
    "europe = lst_cube.sel(lat=slice(71.5, 35.5), lon=slice(-18.0, 60.0))"
   ]
  },
  {
   "cell_type": "markdown",
   "metadata": {},
   "source": [
    "## 3. Get Density Cubes"
   ]
  },
  {
   "cell_type": "code",
   "execution_count": 5,
   "metadata": {},
   "outputs": [],
   "source": [
    "spatial = 1\n",
    "temporal = 46\n",
    "\n",
    "# initialize minicuber\n",
    "minicuber = DensityCubes(\n",
    "    spatial_window=spatial, \n",
    "    time_window=temporal, \n",
    ")\n",
    "\n",
    "europe_df = minicuber.get_minicubes(europe)"
   ]
  },
  {
   "cell_type": "code",
   "execution_count": 6,
   "metadata": {},
   "outputs": [
    {
     "data": {
      "text/plain": [
       "(2052734, 46)"
      ]
     },
     "execution_count": 6,
     "metadata": {},
     "output_type": "execute_result"
    }
   ],
   "source": [
    "europe_df.shape"
   ]
  },
  {
   "cell_type": "markdown",
   "metadata": {},
   "source": [
    "## 4. ML Model Framework"
   ]
  },
  {
   "cell_type": "markdown",
   "metadata": {},
   "source": [
    "### 4.1 Preprocessing"
   ]
  },
  {
   "cell_type": "markdown",
   "metadata": {},
   "source": [
    "#### 4.1.1 - Training and testing"
   ]
  },
  {
   "cell_type": "code",
   "execution_count": 7,
   "metadata": {},
   "outputs": [
    {
     "data": {
      "text/html": [
       "<div>\n",
       "<style scoped>\n",
       "    .dataframe tbody tr th:only-of-type {\n",
       "        vertical-align: middle;\n",
       "    }\n",
       "\n",
       "    .dataframe tbody tr th {\n",
       "        vertical-align: top;\n",
       "    }\n",
       "\n",
       "    .dataframe thead th {\n",
       "        text-align: right;\n",
       "    }\n",
       "</style>\n",
       "<table border=\"1\" class=\"dataframe\">\n",
       "  <thead>\n",
       "    <tr style=\"text-align: right;\">\n",
       "      <th></th>\n",
       "      <th></th>\n",
       "      <th></th>\n",
       "      <th>var_x0</th>\n",
       "      <th>var_x1</th>\n",
       "      <th>var_x2</th>\n",
       "      <th>var_x3</th>\n",
       "      <th>var_x4</th>\n",
       "      <th>var_x5</th>\n",
       "      <th>var_x6</th>\n",
       "      <th>var_x7</th>\n",
       "      <th>var_x8</th>\n",
       "      <th>var_x9</th>\n",
       "      <th>...</th>\n",
       "      <th>var_x36</th>\n",
       "      <th>var_x37</th>\n",
       "      <th>var_x38</th>\n",
       "      <th>var_x39</th>\n",
       "      <th>var_x40</th>\n",
       "      <th>var_x41</th>\n",
       "      <th>var_x42</th>\n",
       "      <th>var_x43</th>\n",
       "      <th>var_x44</th>\n",
       "      <th>var_x45</th>\n",
       "    </tr>\n",
       "    <tr>\n",
       "      <th>time</th>\n",
       "      <th>lat</th>\n",
       "      <th>lon</th>\n",
       "      <th></th>\n",
       "      <th></th>\n",
       "      <th></th>\n",
       "      <th></th>\n",
       "      <th></th>\n",
       "      <th></th>\n",
       "      <th></th>\n",
       "      <th></th>\n",
       "      <th></th>\n",
       "      <th></th>\n",
       "      <th></th>\n",
       "      <th></th>\n",
       "      <th></th>\n",
       "      <th></th>\n",
       "      <th></th>\n",
       "      <th></th>\n",
       "      <th></th>\n",
       "      <th></th>\n",
       "      <th></th>\n",
       "      <th></th>\n",
       "      <th></th>\n",
       "    </tr>\n",
       "  </thead>\n",
       "  <tbody>\n",
       "    <tr>\n",
       "      <th>1986-04-03</th>\n",
       "      <th>41.375</th>\n",
       "      <th>59.125</th>\n",
       "      <td>0.274000</td>\n",
       "      <td>0.169400</td>\n",
       "      <td>0.148700</td>\n",
       "      <td>0.202800</td>\n",
       "      <td>0.141000</td>\n",
       "      <td>0.112900</td>\n",
       "      <td>0.119000</td>\n",
       "      <td>0.131900</td>\n",
       "      <td>0.119000</td>\n",
       "      <td>0.121850</td>\n",
       "      <td>...</td>\n",
       "      <td>0.230600</td>\n",
       "      <td>0.230600</td>\n",
       "      <td>0.21670</td>\n",
       "      <td>0.216700</td>\n",
       "      <td>0.133300</td>\n",
       "      <td>0.202800</td>\n",
       "      <td>0.229056</td>\n",
       "      <td>0.202800</td>\n",
       "      <td>0.216700</td>\n",
       "      <td>0.216700</td>\n",
       "    </tr>\n",
       "    <tr>\n",
       "      <th rowspan=\"4\" valign=\"top\">2002-09-26</th>\n",
       "      <th rowspan=\"2\" valign=\"top\">52.375</th>\n",
       "      <th>-7.625</th>\n",
       "      <td>0.269040</td>\n",
       "      <td>0.277484</td>\n",
       "      <td>0.284080</td>\n",
       "      <td>0.304824</td>\n",
       "      <td>0.293366</td>\n",
       "      <td>0.293524</td>\n",
       "      <td>0.289478</td>\n",
       "      <td>0.285967</td>\n",
       "      <td>0.290185</td>\n",
       "      <td>0.308285</td>\n",
       "      <td>...</td>\n",
       "      <td>0.262700</td>\n",
       "      <td>0.257650</td>\n",
       "      <td>0.30050</td>\n",
       "      <td>0.277167</td>\n",
       "      <td>0.252000</td>\n",
       "      <td>0.263375</td>\n",
       "      <td>0.264067</td>\n",
       "      <td>0.228867</td>\n",
       "      <td>0.250912</td>\n",
       "      <td>0.176800</td>\n",
       "    </tr>\n",
       "    <tr>\n",
       "      <th>-7.375</th>\n",
       "      <td>0.250482</td>\n",
       "      <td>0.277345</td>\n",
       "      <td>0.244725</td>\n",
       "      <td>0.315922</td>\n",
       "      <td>0.293825</td>\n",
       "      <td>0.302100</td>\n",
       "      <td>0.285718</td>\n",
       "      <td>0.303325</td>\n",
       "      <td>0.283058</td>\n",
       "      <td>0.305284</td>\n",
       "      <td>...</td>\n",
       "      <td>0.220200</td>\n",
       "      <td>0.257333</td>\n",
       "      <td>0.25950</td>\n",
       "      <td>0.229800</td>\n",
       "      <td>0.224600</td>\n",
       "      <td>0.225178</td>\n",
       "      <td>0.243500</td>\n",
       "      <td>0.260350</td>\n",
       "      <td>0.220200</td>\n",
       "      <td>0.233022</td>\n",
       "    </tr>\n",
       "    <tr>\n",
       "      <th>52.125</th>\n",
       "      <th>-8.625</th>\n",
       "      <td>0.247233</td>\n",
       "      <td>0.263234</td>\n",
       "      <td>0.251600</td>\n",
       "      <td>0.259300</td>\n",
       "      <td>0.269975</td>\n",
       "      <td>0.254725</td>\n",
       "      <td>0.263375</td>\n",
       "      <td>0.258550</td>\n",
       "      <td>0.299240</td>\n",
       "      <td>0.283700</td>\n",
       "      <td>...</td>\n",
       "      <td>0.247500</td>\n",
       "      <td>0.240150</td>\n",
       "      <td>0.27155</td>\n",
       "      <td>0.263400</td>\n",
       "      <td>0.245900</td>\n",
       "      <td>0.240825</td>\n",
       "      <td>0.233130</td>\n",
       "      <td>0.245700</td>\n",
       "      <td>0.237628</td>\n",
       "      <td>0.178400</td>\n",
       "    </tr>\n",
       "    <tr>\n",
       "      <th>51.875</th>\n",
       "      <th>-9.125</th>\n",
       "      <td>0.270028</td>\n",
       "      <td>0.239867</td>\n",
       "      <td>0.243008</td>\n",
       "      <td>0.274140</td>\n",
       "      <td>0.264556</td>\n",
       "      <td>0.270744</td>\n",
       "      <td>0.277584</td>\n",
       "      <td>0.287440</td>\n",
       "      <td>0.289464</td>\n",
       "      <td>0.291867</td>\n",
       "      <td>...</td>\n",
       "      <td>0.236344</td>\n",
       "      <td>0.232978</td>\n",
       "      <td>0.27610</td>\n",
       "      <td>0.240824</td>\n",
       "      <td>0.244157</td>\n",
       "      <td>0.210883</td>\n",
       "      <td>0.235125</td>\n",
       "      <td>0.250400</td>\n",
       "      <td>0.228756</td>\n",
       "      <td>0.225722</td>\n",
       "    </tr>\n",
       "  </tbody>\n",
       "</table>\n",
       "<p>5 rows × 46 columns</p>\n",
       "</div>"
      ],
      "text/plain": [
       "                             var_x0    var_x1    var_x2    var_x3    var_x4  \\\n",
       "time       lat    lon                                                         \n",
       "1986-04-03 41.375  59.125  0.274000  0.169400  0.148700  0.202800  0.141000   \n",
       "2002-09-26 52.375 -7.625   0.269040  0.277484  0.284080  0.304824  0.293366   \n",
       "                  -7.375   0.250482  0.277345  0.244725  0.315922  0.293825   \n",
       "           52.125 -8.625   0.247233  0.263234  0.251600  0.259300  0.269975   \n",
       "           51.875 -9.125   0.270028  0.239867  0.243008  0.274140  0.264556   \n",
       "\n",
       "                             var_x5    var_x6    var_x7    var_x8    var_x9  \\\n",
       "time       lat    lon                                                         \n",
       "1986-04-03 41.375  59.125  0.112900  0.119000  0.131900  0.119000  0.121850   \n",
       "2002-09-26 52.375 -7.625   0.293524  0.289478  0.285967  0.290185  0.308285   \n",
       "                  -7.375   0.302100  0.285718  0.303325  0.283058  0.305284   \n",
       "           52.125 -8.625   0.254725  0.263375  0.258550  0.299240  0.283700   \n",
       "           51.875 -9.125   0.270744  0.277584  0.287440  0.289464  0.291867   \n",
       "\n",
       "                           ...   var_x36   var_x37  var_x38   var_x39  \\\n",
       "time       lat    lon      ...                                          \n",
       "1986-04-03 41.375  59.125  ...  0.230600  0.230600  0.21670  0.216700   \n",
       "2002-09-26 52.375 -7.625   ...  0.262700  0.257650  0.30050  0.277167   \n",
       "                  -7.375   ...  0.220200  0.257333  0.25950  0.229800   \n",
       "           52.125 -8.625   ...  0.247500  0.240150  0.27155  0.263400   \n",
       "           51.875 -9.125   ...  0.236344  0.232978  0.27610  0.240824   \n",
       "\n",
       "                            var_x40   var_x41   var_x42   var_x43   var_x44  \\\n",
       "time       lat    lon                                                         \n",
       "1986-04-03 41.375  59.125  0.133300  0.202800  0.229056  0.202800  0.216700   \n",
       "2002-09-26 52.375 -7.625   0.252000  0.263375  0.264067  0.228867  0.250912   \n",
       "                  -7.375   0.224600  0.225178  0.243500  0.260350  0.220200   \n",
       "           52.125 -8.625   0.245900  0.240825  0.233130  0.245700  0.237628   \n",
       "           51.875 -9.125   0.244157  0.210883  0.235125  0.250400  0.228756   \n",
       "\n",
       "                            var_x45  \n",
       "time       lat    lon                \n",
       "1986-04-03 41.375  59.125  0.216700  \n",
       "2002-09-26 52.375 -7.625   0.176800  \n",
       "                  -7.375   0.233022  \n",
       "           52.125 -8.625   0.178400  \n",
       "           51.875 -9.125   0.225722  \n",
       "\n",
       "[5 rows x 46 columns]"
      ]
     },
     "execution_count": 7,
     "metadata": {},
     "output_type": "execute_result"
    }
   ],
   "source": [
    "europe_df.head()\n"
   ]
  },
  {
   "cell_type": "code",
   "execution_count": 8,
   "metadata": {},
   "outputs": [],
   "source": [
    "y = europe_df.iloc[:, 0][:, np.newaxis]\n",
    "X = europe_df.iloc[:, 1:]\n",
    "\n",
    "d_dimensions = X.shape[1]"
   ]
  },
  {
   "cell_type": "markdown",
   "metadata": {},
   "source": [
    "#### 4.1.2 - Train-Test Split"
   ]
  },
  {
   "cell_type": "code",
   "execution_count": 9,
   "metadata": {},
   "outputs": [],
   "source": [
    "from sklearn.model_selection import train_test_split\n",
    "\n",
    "\n",
    "train_size = 10_000\n",
    "random_state = 123\n",
    "\n",
    "xtrain, xtest, ytrain, ytest = train_test_split(\n",
    "    X, y, train_size=train_size, random_state=random_state)\n",
    "\n",
    "test_size = xtest.shape[0]"
   ]
  },
  {
   "cell_type": "markdown",
   "metadata": {},
   "source": [
    "#### 4.1.1 - Normalize"
   ]
  },
  {
   "cell_type": "code",
   "execution_count": 10,
   "metadata": {},
   "outputs": [],
   "source": [
    "from sklearn.preprocessing import StandardScaler\n",
    "\n",
    "# normalize inputs\n",
    "x_normalizer = StandardScaler(with_mean=True, with_std=False)\n",
    "\n",
    "xtrain_norm = x_normalizer.fit_transform(xtrain)\n",
    "xtest_norm = x_normalizer.transform(xtest)\n",
    "\n",
    "# remove mean outputs\n",
    "y_normalizer = StandardScaler(with_std=False)\n",
    "\n",
    "ytrain_norm = y_normalizer.fit_transform(ytrain)\n",
    "ytest_norm = y_normalizer.transform(ytest)"
   ]
  },
  {
   "cell_type": "markdown",
   "metadata": {},
   "source": [
    "### 4.2 - Training"
   ]
  },
  {
   "cell_type": "code",
   "execution_count": 11,
   "metadata": {},
   "outputs": [],
   "source": [
    "from gpy.sparse import SparseGPR\n",
    "import GPy"
   ]
  },
  {
   "cell_type": "code",
   "execution_count": 12,
   "metadata": {},
   "outputs": [
    {
     "data": {
      "application/vnd.jupyter.widget-view+json": {
       "model_id": "335abb2db5e74ff0ae4f6aaa88e7e319",
       "version_major": 2,
       "version_minor": 0
      },
      "text/plain": [
       "HBox(children=(VBox(children=(IntProgress(value=0, max=5000), HTML(value=''))), Box(children=(HTML(value=''),)…"
      ]
     },
     "metadata": {},
     "output_type": "display_data"
    },
    {
     "name": "stderr",
     "output_type": "stream",
     "text": [
      " /home/emmanuel/.conda/envs/2019_rbig_ad/lib/python3.6/site-packages/GPy/kern/src/rbf.py:52: RuntimeWarning:overflow encountered in square\n",
      " /home/emmanuel/.conda/envs/2019_rbig_ad/lib/python3.6/site-packages/GPy/kern/src/stationary.py:353: RuntimeWarning:invalid value encountered in true_divide\n",
      " /home/emmanuel/.conda/envs/2019_rbig_ad/lib/python3.6/site-packages/GPy/kern/src/stationary.py:168: RuntimeWarning:overflow encountered in true_divide\n",
      " /home/emmanuel/.conda/envs/2019_rbig_ad/lib/python3.6/site-packages/GPy/kern/src/rbf.py:76: RuntimeWarning:invalid value encountered in multiply\n"
     ]
    },
    {
     "data": {
      "text/plain": [
       "SparseGPR(alpha=0.5, inference='vfe',\n",
       "          kernel=<GPy.kern.src.rbf.RBF object at 0x7ffa8c70cb38>,\n",
       "          max_iters=5000, n_inducing=300, n_restarts=0, optimizer='scg',\n",
       "          verbose=1)"
      ]
     },
     "execution_count": 12,
     "metadata": {},
     "output_type": "execute_result"
    }
   ],
   "source": [
    "# gp params\n",
    "n_dims = xtrain_norm.shape[1]\n",
    "kernel = GPy.kern.RBF(input_dim=n_dims, ARD=False)\n",
    "inference = 'vfe'\n",
    "n_inducing = 300\n",
    "verbose = 1\n",
    "max_iters = 5_000\n",
    "n_restarts = 0\n",
    "\n",
    "# initialize GP Model\n",
    "sgp_model = SparseGPR(\n",
    "    kernel=kernel, \n",
    "    inference=inference, \n",
    "    n_inducing=n_inducing, \n",
    "    verbose=verbose,\n",
    "    max_iters=max_iters,\n",
    "    n_restarts=n_restarts\n",
    ")\n",
    "\n",
    "# train GP model\n",
    "sgp_model.fit(xtrain_norm, ytrain_norm)"
   ]
  },
  {
   "cell_type": "code",
   "execution_count": 13,
   "metadata": {},
   "outputs": [
    {
     "data": {
      "text/html": [
       "<style type=\"text/css\">\n",
       ".pd{\n",
       "    font-family: \"Courier New\", Courier, monospace !important;\n",
       "    width: 100%;\n",
       "    padding: 3px;\n",
       "}\n",
       "</style>\n",
       "\n",
       "<p class=pd>\n",
       "<b>Model</b>: sparse_gp<br>\n",
       "<b>Objective</b>: -19216.6014878677<br>\n",
       "<b>Number of Parameters</b>: 13503<br>\n",
       "<b>Number of Optimization Parameters</b>: 13503<br>\n",
       "<b>Updates</b>: True<br>\n",
       "</p>\n",
       "<style type=\"text/css\">\n",
       ".tg  {font-family:\"Courier New\", Courier, monospace !important;padding:2px 3px;word-break:normal;border-collapse:collapse;border-spacing:0;border-color:#DCDCDC;margin:0px auto;width:100%;}\n",
       ".tg td{font-family:\"Courier New\", Courier, monospace !important;font-weight:bold;color:#444;background-color:#F7FDFA;border-style:solid;border-width:1px;overflow:hidden;word-break:normal;border-color:#DCDCDC;}\n",
       ".tg th{font-family:\"Courier New\", Courier, monospace !important;font-weight:normal;color:#fff;background-color:#26ADE4;border-style:solid;border-width:1px;overflow:hidden;word-break:normal;border-color:#DCDCDC;}\n",
       ".tg .tg-left{font-family:\"Courier New\", Courier, monospace !important;font-weight:normal;text-align:left;}\n",
       ".tg .tg-center{font-family:\"Courier New\", Courier, monospace !important;font-weight:normal;text-align:center;}\n",
       ".tg .tg-right{font-family:\"Courier New\", Courier, monospace !important;font-weight:normal;text-align:right;}\n",
       "</style>\n",
       "<table class=\"tg\"><tr><th><b>  sparse_gp.             </b></th><th><b>                value</b></th><th><b>constraints</b></th><th><b>priors</b></th></tr>\n",
       "<tr><td class=tg-left>  inducing inputs        </td><td class=tg-right>            (300, 45)</td><td class=tg-center>           </td><td class=tg-center>      </td></tr>\n",
       "<tr><td class=tg-left>  rbf.variance           </td><td class=tg-right>  0.01917727197037847</td><td class=tg-center>    +ve    </td><td class=tg-center>      </td></tr>\n",
       "<tr><td class=tg-left>  rbf.lengthscale        </td><td class=tg-right>   1.4028640633585876</td><td class=tg-center>    +ve    </td><td class=tg-center>      </td></tr>\n",
       "<tr><td class=tg-left>  Gaussian_noise.variance</td><td class=tg-right>0.0011924646044146395</td><td class=tg-center>    +ve    </td><td class=tg-center>      </td></tr>\n",
       "</table>"
      ],
      "text/plain": [
       "<GPy.models.sparse_gp_regression.SparseGPRegression at 0x7ffa8c70cb70>"
      ]
     },
     "execution_count": 13,
     "metadata": {},
     "output_type": "execute_result"
    }
   ],
   "source": [
    "sgp_model.display_model()"
   ]
  },
  {
   "cell_type": "markdown",
   "metadata": {},
   "source": [
    "### 4.3 - Testing"
   ]
  },
  {
   "cell_type": "code",
   "execution_count": 14,
   "metadata": {},
   "outputs": [],
   "source": [
    "ypred = sgp_model.predict(xtest_norm, return_std=False)"
   ]
  },
  {
   "cell_type": "code",
   "execution_count": 15,
   "metadata": {},
   "outputs": [
    {
     "data": {
      "text/plain": [
       "((2042734, 1), (2042734, 1))"
      ]
     },
     "execution_count": 15,
     "metadata": {},
     "output_type": "execute_result"
    }
   ],
   "source": [
    "ypred.shape, ytest_norm.shape"
   ]
  },
  {
   "cell_type": "code",
   "execution_count": 16,
   "metadata": {},
   "outputs": [
    {
     "data": {
      "text/html": [
       "<div>\n",
       "<style scoped>\n",
       "    .dataframe tbody tr th:only-of-type {\n",
       "        vertical-align: middle;\n",
       "    }\n",
       "\n",
       "    .dataframe tbody tr th {\n",
       "        vertical-align: top;\n",
       "    }\n",
       "\n",
       "    .dataframe thead th {\n",
       "        text-align: right;\n",
       "    }\n",
       "</style>\n",
       "<table border=\"1\" class=\"dataframe\">\n",
       "  <thead>\n",
       "    <tr style=\"text-align: right;\">\n",
       "      <th></th>\n",
       "      <th>mae</th>\n",
       "      <th>mse</th>\n",
       "      <th>rmse</th>\n",
       "      <th>r2</th>\n",
       "    </tr>\n",
       "  </thead>\n",
       "  <tbody>\n",
       "    <tr>\n",
       "      <th>0</th>\n",
       "      <td>0.025959</td>\n",
       "      <td>0.001244</td>\n",
       "      <td>0.035273</td>\n",
       "      <td>0.770773</td>\n",
       "    </tr>\n",
       "  </tbody>\n",
       "</table>\n",
       "</div>"
      ],
      "text/plain": [
       "        mae       mse      rmse        r2\n",
       "0  0.025959  0.001244  0.035273  0.770773"
      ]
     },
     "execution_count": 16,
     "metadata": {},
     "output_type": "execute_result"
    }
   ],
   "source": [
    "stats = Metrics().get_all(ypred.squeeze(), ytest_norm.squeeze())\n",
    "stats"
   ]
  },
  {
   "cell_type": "code",
   "execution_count": null,
   "metadata": {},
   "outputs": [],
   "source": []
  }
 ],
 "metadata": {
  "kernelspec": {
   "display_name": "Python [conda env:.conda-2019_rbig_ad]",
   "language": "python",
   "name": "conda-env-.conda-2019_rbig_ad-py"
  },
  "language_info": {
   "codemirror_mode": {
    "name": "ipython",
    "version": 3
   },
   "file_extension": ".py",
   "mimetype": "text/x-python",
   "name": "python",
   "nbconvert_exporter": "python",
   "pygments_lexer": "ipython3",
   "version": "3.6.9"
  }
 },
 "nbformat": 4,
 "nbformat_minor": 4
}
